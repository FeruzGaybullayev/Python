{
 "cells": [
  {
   "cell_type": "code",
   "execution_count": 12,
   "metadata": {},
   "outputs": [
    {
     "data": {
      "text/plain": [
       "<__main__.Demo at 0x28299094130>"
      ]
     },
     "execution_count": 12,
     "metadata": {},
     "output_type": "execute_result"
    }
   ],
   "source": [
    "class Parent:\n",
    "    def __init__(self, *args, **kwargs):\n",
    "        self.args = args\n",
    "        self.kwargs = kwargs\n",
    "\n",
    "class Demo(Parent):\n",
    "    pass\n",
    "\n",
    "\n",
    "Demo('a', 'b')"
   ]
  },
  {
   "cell_type": "code",
   "execution_count": 28,
   "metadata": {},
   "outputs": [
    {
     "name": "stdout",
     "output_type": "stream",
     "text": [
      "('Demo', 'Another')\n"
     ]
    }
   ],
   "source": [
    "class CustomException(Exception):\n",
    "    def __init__(self, msg: str, *args, **kwargs):\n",
    "        self.msg = msg\n",
    "        super().__init__(*args, **kwargs)\n",
    "\n",
    "    # def __init__(self, *args, **kwargs):\n",
    "    #     super().__init__(*args, **kwargs)\n",
    "\n",
    "    # def __str__(self):\n",
    "    #     return self.msg\n",
    "\n",
    "try:\n",
    "    raise CustomException('Some message', 'Demo', 'Another')\n",
    "except CustomException as exc:\n",
    "    print(exc)"
   ]
  },
  {
   "cell_type": "code",
   "execution_count": 3,
   "metadata": {},
   "outputs": [
    {
     "data": {
      "text/plain": [
       "[UnicodeError,\n",
       " io.UnsupportedOperation,\n",
       " json.decoder.JSONDecodeError,\n",
       " ssl.SSLCertVerificationError,\n",
       " binascii.Error,\n",
       " _hashlib.UnsupportedDigestmodError,\n",
       " calendar.IllegalMonthError,\n",
       " calendar.IllegalWeekdayError,\n",
       " dateutil.parser._parser.ParserError,\n",
       " email.errors.MessageDefect,\n",
       " pygments.util.ClassNotFound,\n",
       " IPython.lib.clipboard.ClipboardEmpty,\n",
       " IPython.core.magics.code.MacroToEdit,\n",
       " packaging.version.InvalidVersion]"
      ]
     },
     "execution_count": 3,
     "metadata": {},
     "output_type": "execute_result"
    }
   ],
   "source": [
    "ValueError.__subclasses__()"
   ]
  },
  {
   "cell_type": "markdown",
   "metadata": {},
   "source": [
    "<p style=\"text-align:center;color:blue;\"><b>Creating custom exceptions.</b></p>"
   ]
  },
  {
   "cell_type": "code",
   "execution_count": 33,
   "metadata": {},
   "outputs": [
    {
     "name": "stdout",
     "output_type": "stream",
     "text": [
      "Error handled\n",
      "('username', 'Must not be empty')\n"
     ]
    }
   ],
   "source": [
    "# example 1\n",
    "class ValidationError(Exception):\n",
    "    \"\"\"Exception raised for validation errors.\"\"\"\n",
    "    def __init__(self, field, message=\"Invalid value\"):\n",
    "        self.field = field\n",
    "        self.message = message\n",
    "\n",
    "try:\n",
    "    raise ValidationError(\"username\", \"Must not be empty\")\n",
    "except Exception as e:\n",
    "    print(\"Error handled\")\n",
    "    print(e)\n"
   ]
  },
  {
   "cell_type": "code",
   "execution_count": 39,
   "metadata": {},
   "outputs": [
    {
     "name": "stdout",
     "output_type": "stream",
     "text": [
      "Caught an application error: Network is unreachable\n"
     ]
    }
   ],
   "source": [
    "# example 2\n",
    "class ApplicationError(Exception):\n",
    "    \"\"\"Base class for application exceptions.\"\"\"\n",
    "    pass\n",
    "\n",
    "class NetworkError(ApplicationError):\n",
    "    \"\"\"Exception raised for network-related errors.\"\"\"\n",
    "    pass\n",
    "\n",
    "class FileError(ApplicationError):\n",
    "    \"\"\"Exception raised for file-related errors.\"\"\"\n",
    "    pass\n",
    "\n",
    "# Using the hierarchy\n",
    "try:\n",
    "    raise FileError(\"Network is unreachable\")\n",
    "except ApplicationError as e:\n",
    "    print(f\"Caught an application error: {e}\")"
   ]
  },
  {
   "cell_type": "markdown",
   "metadata": {},
   "source": [
    "What is a .csv file? CSV stands for Comma Separated Values. A CSV file is a plain text file that stores tables and spreadsheet information. The contents are often a table of text, numbers, or dates. CSV files can be easily imported and exported using programs that store data in tables.<sup>[1](https://www.freecodecamp.org/news/what-is-a-csv-file-and-how-to-open-the-csv-file-format/)</sup>\n",
    "\n",
    "---\n",
    "```csv\n",
    "Username,Identifier,First name,Last name\n",
    "booker12,9012,Rachel,Booker\n",
    "grey07,2070,Laura,Grey\n",
    "johnson81,4081,Craig,Johnson\n",
    "jenkins46,9346,Mary,Jenkins\n",
    "smith79,5079,Jamie,Smith\n",
    "```\n",
    "---"
   ]
  },
  {
   "cell_type": "code",
   "execution_count": 45,
   "metadata": {},
   "outputs": [
    {
     "name": "stdout",
     "output_type": "stream",
     "text": [
      "['booker12', 'grey07', 'johnson81', 'jenkins46', 'smith79']\n"
     ]
    }
   ],
   "source": [
    "with open('usernames.csv', 'rt') as f:\n",
    "    lines = f.read().splitlines()\n",
    "    usernames = [row.split(',')[0] for row in lines[1:]] # list comprehension\n",
    "    print(usernames)"
   ]
  },
  {
   "cell_type": "markdown",
   "metadata": {},
   "source": [
    "1. Reading a CSV File"
   ]
  },
  {
   "cell_type": "code",
   "execution_count": 53,
   "metadata": {},
   "outputs": [
    {
     "name": "stdout",
     "output_type": "stream",
     "text": [
      "['booker12', '9012', 'Rachel', 'Booker']\n",
      "['grey07', '2070', 'Laura', 'Grey']\n",
      "['johnson81', '4081', 'Craig', 'Johnson']\n",
      "['jenkins46', '9346', 'Mary', 'Jenkins']\n",
      "['smith79', '5079', 'Jamie', 'Smith']\n"
     ]
    }
   ],
   "source": [
    "with open('usernames.csv', 'rt') as file:\n",
    "    reader = csv.reader(file, delimiter=';') # ListReader\n",
    "    columns = next(reader)\n",
    "    for row in reader:\n",
    "        print(row)"
   ]
  },
  {
   "cell_type": "code",
   "execution_count": 51,
   "metadata": {},
   "outputs": [
    {
     "data": {
      "text/plain": [
       "['Username', 'Identifier', 'First name', 'Last name']"
      ]
     },
     "execution_count": 51,
     "metadata": {},
     "output_type": "execute_result"
    }
   ],
   "source": [
    "columns"
   ]
  },
  {
   "cell_type": "markdown",
   "metadata": {},
   "source": [
    "2. Writing to a CSV File"
   ]
  },
  {
   "cell_type": "code",
   "execution_count": 61,
   "metadata": {},
   "outputs": [],
   "source": [
    "columns = ['Name', 'Age', 'City']\n",
    "data = [\n",
    "    ['Alice', 30, 'New York'],\n",
    "    ['Bob', 25, 'Los Angeles']\n",
    "]\n",
    "\n",
    "with open('output.csv', mode='w', newline='') as file:\n",
    "    writer = csv.writer(file) # ListWriter\n",
    "    writer.writerow(columns)\n",
    "    writer.writerows(data)"
   ]
  },
  {
   "cell_type": "markdown",
   "metadata": {},
   "source": [
    "Use `csv.DictReader` to read a CSV file with a header."
   ]
  },
  {
   "cell_type": "code",
   "execution_count": 65,
   "metadata": {},
   "outputs": [
    {
     "data": {
      "text/plain": [
       "[{'Username': 'booker12',\n",
       "  'Identifier': '9012',\n",
       "  'First name': 'Rachel',\n",
       "  'Last name': 'Booker'},\n",
       " {'Username': 'grey07',\n",
       "  'Identifier': '2070',\n",
       "  'First name': 'Laura',\n",
       "  'Last name': 'Grey'},\n",
       " {'Username': 'johnson81',\n",
       "  'Identifier': '4081',\n",
       "  'First name': 'Craig',\n",
       "  'Last name': 'Johnson'},\n",
       " {'Username': 'jenkins46',\n",
       "  'Identifier': '9346',\n",
       "  'First name': 'Mary',\n",
       "  'Last name': 'Jenkins'},\n",
       " {'Username': 'smith79',\n",
       "  'Identifier': '5079',\n",
       "  'First name': 'Jamie',\n",
       "  'Last name': 'Smith'}]"
      ]
     },
     "execution_count": 65,
     "metadata": {},
     "output_type": "execute_result"
    }
   ],
   "source": [
    "with open('usernames.csv', 'rt') as file:\n",
    "    reader = csv.DictReader(file, delimiter=';')\n",
    "    # for row in reader:\n",
    "    #     print(row)\n",
    "    all_rows = list(reader)\n",
    "all_rows"
   ]
  },
  {
   "cell_type": "markdown",
   "metadata": {},
   "source": [
    "Use `csv.DictWriter` to write data with a header."
   ]
  },
  {
   "cell_type": "code",
   "execution_count": null,
   "metadata": {},
   "outputs": [],
   "source": [
    "fieldnames = ['Name', 'Age', 'City']\n",
    "writer = csv.DictWriter(open('output.csv', mode='w', newline=''), fieldnames=fieldnames)\n",
    "writer.writeheader()\n",
    "writer.writerows(data)"
   ]
  },
  {
   "cell_type": "markdown",
   "metadata": {},
   "source": [
    "Append rows to an existing CSV file"
   ]
  },
  {
   "cell_type": "code",
   "execution_count": 30,
   "metadata": {},
   "outputs": [],
   "source": [
    "data = [\n",
    "    ['Charlie', 35, 'Chicago'],\n",
    "    ['Diana', 40, 'Boston']\n",
    "]\n",
    "\n",
    "with open('output.csv', mode='a', newline='') as file:\n",
    "    writer = csv.writer(file)\n",
    "    writer.writerows(data)"
   ]
  },
  {
   "cell_type": "markdown",
   "metadata": {},
   "source": [
    "Skip initial lines while reading"
   ]
  },
  {
   "cell_type": "code",
   "execution_count": 69,
   "metadata": {},
   "outputs": [
    {
     "name": "stdout",
     "output_type": "stream",
     "text": [
      "['jenkins46;9346;Mary;Jenkins']\n",
      "['smith79;5079;Jamie;Smith']\n"
     ]
    }
   ],
   "source": [
    "with open('usernames.csv', mode='r', newline='') as file:\n",
    "    reader = csv.reader(file)\n",
    "    for _ in range(4):\n",
    "        next(reader)  # Skip the header\n",
    "    for row in reader:\n",
    "        print(row)"
   ]
  },
  {
   "cell_type": "markdown",
   "metadata": {},
   "source": [
    "<p style=\"text-align:center;color:blue;\">What is <b>JSON</b>? Python <code>json</code> library.</p>"
   ]
  },
  {
   "cell_type": "markdown",
   "metadata": {},
   "source": [
    "[`json` module docs](https://docs.python.org/3/library/json.html)"
   ]
  },
  {
   "cell_type": "markdown",
   "metadata": {},
   "source": [
    "1. Reading JSON from a File."
   ]
  },
  {
   "cell_type": "code",
   "execution_count": 75,
   "metadata": {},
   "outputs": [
    {
     "name": "stdout",
     "output_type": "stream",
     "text": [
      "{'users': [{'id': 1, 'name': 'Alice Johnson', 'email': 'alice.johnson@example.com', 'isActive': True, 'roles': ['admin', 'editor'], 'profile': {'age': 30, 'city': 'New York', 'joined': '2023-01-15'}}, {'id': 2, 'name': 'Bob Smith', 'email': 'bob.smith@example.com', 'isActive': False, 'roles': ['viewer'], 'profile': {'age': 25, 'city': 'Los Angeles', 'joined': '2022-09-10'}}], 'settings': {'theme': 'dark', 'notifications': {'email': True, 'sms': False}, 'version': 1.2}, 'metadata': {'createdBy': 'system', 'createdAt': '2025-01-06T10:30:00Z', 'tags': ['example', 'sample', 'json']}}\n"
     ]
    }
   ],
   "source": [
    "with open('users.json', 'r') as file:\n",
    "    data = json.load(file)\n",
    "    print(data)"
   ]
  },
  {
   "cell_type": "code",
   "execution_count": 73,
   "metadata": {},
   "outputs": [
    {
     "data": {
      "text/plain": [
       "list"
      ]
     },
     "execution_count": 73,
     "metadata": {},
     "output_type": "execute_result"
    }
   ],
   "source": [
    "type(data['users'])"
   ]
  },
  {
   "cell_type": "code",
   "execution_count": 76,
   "metadata": {},
   "outputs": [],
   "source": [
    "json_str = \"\"\"\n",
    "{\n",
    "    \"id\": 1,\n",
    "    \"name\": \"Alice Johnson\",\n",
    "    \"email\": \"alice.johnson@example.com\",\n",
    "    \"isActive\": true,\n",
    "    \"roles\": [\"admin\", \"editor\"],\n",
    "    \"profile\": {\n",
    "        \"age\": 30,\n",
    "        \"city\": \"New York\",\n",
    "        \"joined\": \"2023-01-15\"\n",
    "    }\n",
    "}\n",
    "\"\"\""
   ]
  },
  {
   "cell_type": "code",
   "execution_count": 86,
   "metadata": {},
   "outputs": [
    {
     "data": {
      "text/plain": [
       "dict"
      ]
     },
     "execution_count": 86,
     "metadata": {},
     "output_type": "execute_result"
    }
   ],
   "source": [
    "json_obj = json.loads(json_str)\n",
    "type(json_obj)"
   ]
  },
  {
   "cell_type": "code",
   "execution_count": 84,
   "metadata": {},
   "outputs": [
    {
     "data": {
      "text/plain": [
       "'Alice Johnson'"
      ]
     },
     "execution_count": 84,
     "metadata": {},
     "output_type": "execute_result"
    }
   ],
   "source": [
    "json_obj['name']"
   ]
  },
  {
   "cell_type": "markdown",
   "metadata": {},
   "source": [
    "2. Writing JSON to a File."
   ]
  },
  {
   "cell_type": "code",
   "execution_count": 98,
   "metadata": {},
   "outputs": [],
   "source": [
    "data = {\n",
    "    \"name\": \"Alice\",\n",
    "    \"age\": 30,\n",
    "    \"city\": \"New York\",\n",
    "    \"employed\": True\n",
    "}\n",
    "\n",
    "with open('data.json', 'w') as file:\n",
    "    json.dump(data, file, indent=4)  # Write JSON with indentation"
   ]
  },
  {
   "cell_type": "code",
   "execution_count": 100,
   "metadata": {},
   "outputs": [],
   "source": [
    "data = {\n",
    "    \"name\": \"Alice\",\n",
    "    \"age\": 30,\n",
    "    \"city\": \"New York\",\n",
    "    \"employed\": True\n",
    "}\n",
    "\n",
    "with open('data1.json', 'wt') as f:\n",
    "    f.write('{\\n')\n",
    "    n = len(data)\n",
    "    i = 1\n",
    "    for k, val in data.items():\n",
    "        comma = ',' if i != n else ''\n",
    "        if isinstance(val, str):\n",
    "            val = '\"' + val + '\"'\n",
    "        elif isinstance(val, bool):\n",
    "            val = str(val).lower()\n",
    "        f.write(4*\" \" + f'\"{k}\": {val}{comma}\\n')\n",
    "        i += 1\n",
    "    f.write('}')\n"
   ]
  },
  {
   "cell_type": "code",
   "execution_count": 94,
   "metadata": {},
   "outputs": [
    {
     "data": {
      "text/plain": [
       "3"
      ]
     },
     "execution_count": 94,
     "metadata": {},
     "output_type": "execute_result"
    }
   ],
   "source": [
    "len(data)"
   ]
  },
  {
   "cell_type": "markdown",
   "metadata": {},
   "source": [
    "3. Parsing JSON Strings."
   ]
  },
  {
   "cell_type": "code",
   "execution_count": 101,
   "metadata": {},
   "outputs": [
    {
     "name": "stdout",
     "output_type": "stream",
     "text": [
      "{'name': 'Bob', 'age': 25, 'city': 'Los Angeles'}\n"
     ]
    }
   ],
   "source": [
    "json_string = '{\"name\": \"Bob\", \"age\": 25, \"city\": \"Los Angeles\"}'\n",
    "data = json.loads(json_string)\n",
    "print(data)"
   ]
  },
  {
   "cell_type": "markdown",
   "metadata": {},
   "source": [
    "4. Converting Python Objects to JSON Strings."
   ]
  },
  {
   "cell_type": "code",
   "execution_count": 102,
   "metadata": {},
   "outputs": [
    {
     "name": "stdout",
     "output_type": "stream",
     "text": [
      "{\n",
      "    \"name\": \"Charlie\",\n",
      "    \"age\": 35,\n",
      "    \"city\": \"Chicago\"\n",
      "}\n"
     ]
    }
   ],
   "source": [
    "data = {\n",
    "    \"name\": \"Charlie\",\n",
    "    \"age\": 35,\n",
    "    \"city\": \"Chicago\"\n",
    "}\n",
    "\n",
    "json_string = json.dumps(data, indent=4)  # Serialize with indentation\n",
    "print(json_string)"
   ]
  },
  {
   "cell_type": "code",
   "execution_count": 108,
   "metadata": {},
   "outputs": [
    {
     "data": {
      "text/plain": [
       "datetime.datetime"
      ]
     },
     "execution_count": 108,
     "metadata": {},
     "output_type": "execute_result"
    }
   ],
   "source": [
    "from datetime import datetime\n",
    "\n",
    "now = datetime.now()\n",
    "type(now)\n",
    "\n"
   ]
  },
  {
   "cell_type": "markdown",
   "metadata": {},
   "source": [
    "5. Handling Complex Python Objects."
   ]
  },
  {
   "cell_type": "markdown",
   "metadata": {},
   "source": [
    "6. Reading Nested JSON"
   ]
  },
  {
   "cell_type": "code",
   "execution_count": null,
   "metadata": {},
   "outputs": [],
   "source": []
  }
 ],
 "metadata": {
  "kernelspec": {
   "display_name": "Python 3",
   "language": "python",
   "name": "python3"
  },
  "language_info": {
   "codemirror_mode": {
    "name": "ipython",
    "version": 3
   },
   "file_extension": ".py",
   "mimetype": "text/x-python",
   "name": "python",
   "nbconvert_exporter": "python",
   "pygments_lexer": "ipython3",
   "version": "3.10.11"
  }
 },
 "nbformat": 4,
 "nbformat_minor": 2
}
