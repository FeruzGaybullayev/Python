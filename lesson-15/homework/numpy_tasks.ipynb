{
 "cells": [
  {
   "cell_type": "markdown",
   "metadata": {},
   "source": [
    "1. Create a vector with values ranging from 10 to 49."
   ]
  },
  {
   "cell_type": "code",
   "execution_count": 3,
   "metadata": {},
   "outputs": [],
   "source": [
    "import numpy as np\n",
    "vector = np.array"
   ]
  },
  {
   "cell_type": "code",
   "execution_count": null,
   "metadata": {},
   "outputs": [],
   "source": []
  },
  {
   "cell_type": "markdown",
   "metadata": {},
   "source": [
    "2. Create a 3x3 matrix with values ranging from 0 to 8."
   ]
  },
  {
   "cell_type": "markdown",
   "metadata": {},
   "source": [
    "3. Create a 3x3 identity matrix."
   ]
  },
  {
   "cell_type": "markdown",
   "metadata": {},
   "source": [
    "4. Create a 3x3x3 array with random values."
   ]
  },
  {
   "cell_type": "markdown",
   "metadata": {},
   "source": [
    "5. Create a 10x10 array with random values and find the minimum and maximum values."
   ]
  },
  {
   "cell_type": "markdown",
   "metadata": {},
   "source": [
    "6. Create a random vector of size 30 and find the mean value.\n",
    "7. Normalize a 5x5 random matrix.\n",
    "8. Multiply a 5x3 matrix by a 3x2 matrix (real matrix product).\n",
    "9. Create two 3x3 matrices and compute their dot product.  \n",
    "10. Given a 4x4 matrix, find its transpose.  \n",
    "11. Create a 3x3 matrix and calculate its determinant.  \n",
    "12. Create two matrices \\( A \\) (3x4) and \\( B \\) (4x3), and compute the matrix product \\( A \\cdot B \\).  \n",
    "13. Create a 3x3 random matrix and a 3-element column vector. Compute the matrix-vector product.  \n",
    "14. Solve the linear system \\( Ax = b \\) where \\( A \\) is a 3x3 matrix, and \\( b \\) is a 3x1 column vector.  \n",
    "15. Given a 5x5 matrix, find the row-wise and column-wise sums."
   ]
  },
  {
   "cell_type": "code",
   "execution_count": null,
   "metadata": {},
   "outputs": [],
   "source": []
  }
 ],
 "metadata": {
  "kernelspec": {
   "display_name": "Python 3",
   "language": "python",
   "name": "python3"
  },
  "language_info": {
   "codemirror_mode": {
    "name": "ipython",
    "version": 3
   },
   "file_extension": ".py",
   "mimetype": "text/x-python",
   "name": "python",
   "nbconvert_exporter": "python",
   "pygments_lexer": "ipython3",
   "version": "3.12.8"
  }
 },
 "nbformat": 4,
 "nbformat_minor": 2
}
