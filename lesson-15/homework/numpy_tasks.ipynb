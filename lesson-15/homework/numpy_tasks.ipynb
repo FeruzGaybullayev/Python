{
 "cells": [
  {
   "cell_type": "markdown",
   "metadata": {},
   "source": [
    "1. Create a vector with values ranging from 10 to 49."
   ]
  },
  {
   "cell_type": "code",
   "execution_count": 26,
   "metadata": {},
   "outputs": [
    {
     "name": "stdout",
     "output_type": "stream",
     "text": [
      "Vector: [10 11 12 13 14 15 16 17 18 19 20 21 22 23 24 25 26 27 28 29 30 31 32 33\n",
      " 34 35 36 37 38 39 40 41 42 43 44 45 46 47 48 49]\n"
     ]
    }
   ],
   "source": [
    "import numpy as np\n",
    "vector = np.arange(10, 50)\n",
    "print(\"Vector:\", vector)"
   ]
  },
  {
   "cell_type": "markdown",
   "metadata": {},
   "source": [
    "2. Create a 3x3 matrix with values ranging from 0 to 8."
   ]
  },
  {
   "cell_type": "code",
   "execution_count": 27,
   "metadata": {},
   "outputs": [
    {
     "name": "stdout",
     "output_type": "stream",
     "text": [
      "[[0 1 2]\n",
      " [3 4 5]\n",
      " [6 7 8]]\n"
     ]
    }
   ],
   "source": [
    "vector_0_8 = np.arange(9)\n",
    "matrix_3x3 = vector_0_8.reshape(3, 3)\n",
    "print(matrix_3x3)"
   ]
  },
  {
   "cell_type": "markdown",
   "metadata": {},
   "source": [
    "3. Create a 3x3 identity matrix."
   ]
  },
  {
   "cell_type": "code",
   "execution_count": 28,
   "metadata": {},
   "outputs": [
    {
     "name": "stdout",
     "output_type": "stream",
     "text": [
      "[[1 0 0]\n",
      " [0 1 0]\n",
      " [0 0 1]]\n"
     ]
    }
   ],
   "source": [
    "creat_identity_matrix = np.array([\n",
    "    [1, 0, 0], [0, 1, 0], [0, 0, 1]\n",
    "    ])\n",
    "print(creat_identity_matrix)"
   ]
  },
  {
   "cell_type": "code",
   "execution_count": 29,
   "metadata": {},
   "outputs": [
    {
     "name": "stdout",
     "output_type": "stream",
     "text": [
      "3x3 Identity Matrix:\n",
      "[[1. 0. 0.]\n",
      " [0. 1. 0.]\n",
      " [0. 0. 1.]]\n"
     ]
    }
   ],
   "source": [
    "identity_matrix = np.eye(3)\n",
    "print(\"3x3 Identity Matrix:\")\n",
    "print(identity_matrix)"
   ]
  },
  {
   "cell_type": "markdown",
   "metadata": {},
   "source": [
    "4. Create a 3x3x3 array with random values."
   ]
  },
  {
   "cell_type": "code",
   "execution_count": 30,
   "metadata": {},
   "outputs": [
    {
     "name": "stdout",
     "output_type": "stream",
     "text": [
      "3x3x3 Random array:\n",
      "[[[0.26681394 0.46076262 0.60238956]\n",
      "  [0.18257676 0.87262904 0.64636953]\n",
      "  [0.12878492 0.08877414 0.83795822]]\n",
      "\n",
      " [[0.94456833 0.03221474 0.22198298]\n",
      "  [0.01839797 0.08348661 0.03467632]\n",
      "  [0.03333106 0.25856762 0.65901288]]\n",
      "\n",
      " [[0.90791773 0.4052933  0.87059589]\n",
      "  [0.0347946  0.86325701 0.58197915]\n",
      "  [0.27981796 0.67016674 0.58971025]]]\n"
     ]
    }
   ],
   "source": [
    "random_array_3x3x3 = np.random.random((3, 3, 3))\n",
    "print(\"3x3x3 Random array:\")\n",
    "print(random_array_3x3x3)"
   ]
  },
  {
   "cell_type": "markdown",
   "metadata": {},
   "source": [
    "5. Create a 10x10 array with random values and find the minimum and maximum values."
   ]
  },
  {
   "cell_type": "code",
   "execution_count": 31,
   "metadata": {},
   "outputs": [
    {
     "name": "stdout",
     "output_type": "stream",
     "text": [
      "10x10 Random array:\n",
      "[[0.38235151 0.8633933  0.27664073 0.21633185 0.74469788 0.03721879\n",
      "  0.88709856 0.20901742 0.12520993 0.49237753]\n",
      " [0.79275472 0.05739217 0.7305316  0.15432977 0.57670629 0.42702584\n",
      "  0.08862169 0.6409774  0.35118846 0.4568766 ]\n",
      " [0.73251579 0.22364375 0.44140749 0.18782675 0.51240718 0.66127732\n",
      "  0.07295893 0.20029802 0.40446978 0.67622432]\n",
      " [0.81981191 0.68125502 0.41558782 0.70308247 0.31615883 0.01951259\n",
      "  0.79360636 0.49379835 0.72671202 0.73461805]\n",
      " [0.3111336  0.23979776 0.28030935 0.47283053 0.77485352 0.65140018\n",
      "  0.26353203 0.53137529 0.92348703 0.07555477]\n",
      " [0.03845554 0.14982458 0.05222908 0.47555281 0.27004042 0.7124461\n",
      "  0.76032668 0.94326519 0.05294205 0.24829242]\n",
      " [0.64673168 0.64767343 0.05354037 0.44683678 0.54914456 0.83913492\n",
      "  0.80874944 0.29313866 0.02227067 0.57040023]\n",
      " [0.52266478 0.52737125 0.83261076 0.9331019  0.98841911 0.72499003\n",
      "  0.5286433  0.20577774 0.77801064 0.24142986]\n",
      " [0.12604026 0.31220228 0.03827808 0.62680052 0.88448278 0.68982029\n",
      "  0.82052484 0.56971253 0.93176842 0.74640172]\n",
      " [0.01592361 0.85821404 0.99050439 0.42484184 0.75480595 0.46400341\n",
      "  0.63698331 0.29816131 0.95651777 0.60702744]]\n",
      "Min value: 0.01592361146959398\n",
      "Max value: 0.9905043876670416\n"
     ]
    }
   ],
   "source": [
    "random_array_10x10 = np.random.random((10, 10))\n",
    "\n",
    "min_val_10x10 = random_array_10x10.min()\n",
    "max_val_10x10 = random_array_10x10.max()\n",
    "\n",
    "print(\"10x10 Random array:\")\n",
    "print(random_array_10x10)\n",
    "\n",
    "print(\"Min value:\", min_val_10x10)\n",
    "print(\"Max value:\", max_val_10x10)"
   ]
  },
  {
   "cell_type": "markdown",
   "metadata": {},
   "source": [
    "6. Create a random vector of size 30 and find the mean value."
   ]
  },
  {
   "cell_type": "code",
   "execution_count": 32,
   "metadata": {},
   "outputs": [
    {
     "name": "stdout",
     "output_type": "stream",
     "text": [
      "[0.03457353 0.44917181 0.88771978 0.30242635 0.02136994 0.68104038\n",
      " 0.24931429 0.26363761 0.02817059 0.96382276 0.42612434 0.76491704\n",
      " 0.01456614 0.91776803 0.39285796 0.33435516 0.95270467 0.93085941\n",
      " 0.96098175 0.42116028 0.56295448 0.20650775 0.42138474 0.20055547\n",
      " 0.25270005 0.08134735 0.39553366 0.84482295 0.22282242 0.46040621]\n",
      "0.45488589659611606\n"
     ]
    }
   ],
   "source": [
    "random_vector_30x = np.random.random(30)\n",
    "mean_val = random_vector_30x.mean()\n",
    "print(random_vector_30x)\n",
    "print(mean_val)"
   ]
  },
  {
   "cell_type": "markdown",
   "metadata": {},
   "source": [
    "7. Normalize a 5x5 random matrix.\n"
   ]
  },
  {
   "cell_type": "code",
   "execution_count": 33,
   "metadata": {},
   "outputs": [
    {
     "name": "stdout",
     "output_type": "stream",
     "text": [
      "Tasodifiy 5x5 Matritsa:\n",
      "[[0.19029964 0.98128965 0.79642982 0.61492886 0.10989578]\n",
      " [0.00794832 0.73227993 0.97764546 0.32374115 0.67569342]\n",
      " [0.50292869 0.58034733 0.46015898 0.11056204 0.22197353]\n",
      " [0.26124232 0.56404134 0.91166336 0.53819285 0.33687019]\n",
      " [0.75685738 0.02644379 0.42840737 0.40223044 0.54014631]]\n",
      "Normallashtirilgan 5x5 Matritsa:\n",
      "[[0.1873457  1.         0.81007708 0.62360502 0.10473968]\n",
      " [0.         0.7441702  0.99625601 0.32444203 0.68603385]\n",
      " [0.50853729 0.58807635 0.46459618 0.10542419 0.21988711]\n",
      " [0.26023142 0.57132375 0.92846673 0.54476731 0.33793065]\n",
      " [0.7694208  0.01900204 0.43197492 0.40508104 0.54677426]]\n"
     ]
    }
   ],
   "source": [
    "# 5x5 o'lchamli tasodifiy matritsa yaratamiz\n",
    "random_matrix_5x5 = np.random.random((5, 5))\n",
    "\n",
    "# Matritsani normallashtiramiz \n",
    "normalized_matrix = (random_matrix_5x5 - random_matrix_5x5.min())/(random_matrix_5x5.max() - random_matrix_5x5.min())\n",
    "\n",
    "print(\"Tasodifiy 5x5 Matritsa:\") \n",
    "print(random_matrix_5x5) \n",
    "\n",
    "print(\"Normallashtirilgan 5x5 Matritsa:\") \n",
    "print(normalized_matrix)"
   ]
  },
  {
   "cell_type": "markdown",
   "metadata": {},
   "source": [
    "8. Multiply a 5x3 matrix by a 3x2 matrix (real matrix product).\n"
   ]
  },
  {
   "cell_type": "code",
   "execution_count": 34,
   "metadata": {},
   "outputs": [
    {
     "name": "stdout",
     "output_type": "stream",
     "text": [
      "5x3 Matritsa:\n",
      "[[0.24027863 0.06565386 0.81461021]\n",
      " [0.7239432  0.9304981  0.73147811]\n",
      " [0.36702342 0.28190821 0.71203198]\n",
      " [0.87930441 0.60869586 0.6684775 ]\n",
      " [0.3429835  0.20650251 0.68588565]]\n",
      "3x2 Matritsa:\n",
      "[[0.02668763 0.86543796]\n",
      " [0.17530633 0.99336445]\n",
      " [0.73781575 0.23848438]]\n",
      "Matritsa Mahsuloti (5x3 * 3x2):\n",
      "[[0.61895425 0.46743627]\n",
      " [0.72213861 1.72529776]\n",
      " [0.58456368 0.76748209]\n",
      " [0.62338801 1.52506168]\n",
      " [0.55141185 0.66553621]]\n"
     ]
    }
   ],
   "source": [
    "matrix_5x3 = np.random.random((5, 3))\n",
    "matrix_3x2 = np.random.random((3, 2))\n",
    "\n",
    "# Matritsalarni ko'paytishishda np.dot() funksiyasidan foydalaniz\n",
    "matrix_product = np.dot(matrix_5x3, matrix_3x2)\n",
    "\n",
    "print(\"5x3 Matritsa:\") \n",
    "print(matrix_5x3) \n",
    "print(\"3x2 Matritsa:\") \n",
    "print(matrix_3x2) \n",
    "print(\"Matritsa Mahsuloti (5x3 * 3x2):\")\n",
    "print(matrix_product)"
   ]
  },
  {
   "cell_type": "markdown",
   "metadata": {},
   "source": [
    "9. Create two 3x3 matrices and compute their dot product.  "
   ]
  },
  {
   "cell_type": "code",
   "execution_count": 58,
   "metadata": {},
   "outputs": [
    {
     "name": "stdout",
     "output_type": "stream",
     "text": [
      "Matrix_1:\n",
      "[[0.09837726 0.77027176 0.35316424]\n",
      " [0.53761339 0.24827096 0.60104177]\n",
      " [0.90867409 0.16351638 0.24844545]]\n",
      "\n",
      "\n",
      "Matrix_2:   \n",
      "[[0.36159028 0.64266135 0.21325418]\n",
      " [0.77965216 0.76821571 0.86451417]\n",
      " [0.91688375 0.40728548 0.74769528]]\n"
     ]
    }
   ],
   "source": [
    "a =  np.random.random((3, 3))\n",
    "b =  np.random.random((3, 3))\n",
    "\n",
    "# Dot product\n",
    "dot_product = np.dot(a, b)\n",
    "\n",
    "print(f\"\"\"Matrix_1:\n",
    "{a}\n",
    "\n",
    "\"\"\")\n",
    "print(f\"\"\"Matrix_2:   \n",
    "{b}\"\"\")"
   ]
  },
  {
   "cell_type": "markdown",
   "metadata": {},
   "source": [
    "10. Given a 4x4 matrix, find its transpose.  \n"
   ]
  },
  {
   "cell_type": "code",
   "execution_count": 59,
   "metadata": {},
   "outputs": [
    {
     "name": "stdout",
     "output_type": "stream",
     "text": [
      "4x4 Matritsa:\n",
      "[[0.21075952 0.427889   0.47821491 0.672334  ]\n",
      " [0.05270067 0.85189074 0.52220331 0.02354798]\n",
      " [0.54664753 0.69055819 0.38404277 0.54805144]\n",
      " [0.00626785 0.07458216 0.72760548 0.37742727]]\n",
      "Transpose of the 4x4 Matrix:\n",
      "[[0.21075952 0.05270067 0.54664753 0.00626785]\n",
      " [0.427889   0.85189074 0.69055819 0.07458216]\n",
      " [0.47821491 0.52220331 0.38404277 0.72760548]\n",
      " [0.672334   0.02354798 0.54805144 0.37742727]]\n"
     ]
    }
   ],
   "source": [
    "matrix_4x4 = np.random.random((4, 4))\n",
    "transpose_matrix = np.transpose(matrix_4x4)\n",
    "\n",
    "print(\"4x4 Matritsa:\")\n",
    "print(matrix_4x4)\n",
    "print(\"Transpose of the 4x4 Matrix:\")\n",
    "print(transpose_matrix)"
   ]
  },
  {
   "cell_type": "markdown",
   "metadata": {},
   "source": [
    "11. Create a 3x3 matrix and calculate its determinant.  \n"
   ]
  },
  {
   "cell_type": "code",
   "execution_count": 60,
   "metadata": {},
   "outputs": [
    {
     "name": "stdout",
     "output_type": "stream",
     "text": [
      "3x3 Matritsa:\n",
      "[[0.68561837 0.01897763 0.25405604]\n",
      " [0.31510135 0.59867049 0.32081638]\n",
      " [0.60539318 0.29120405 0.40858463]]\n",
      "Determinant of the 3x3 Matrix:\n",
      "0.036131525157000535\n"
     ]
    }
   ],
   "source": [
    "matrix_3x3_det = np.random.random((3, 3))\n",
    "determinant = np.linalg.det(matrix_3x3_det)\n",
    "\n",
    "print(\"3x3 Matritsa:\")\n",
    "print(matrix_3x3_det)\n",
    "print(\"Determinant of the 3x3 Matrix:\")\n",
    "print(determinant)"
   ]
  },
  {
   "cell_type": "markdown",
   "metadata": {},
   "source": [
    "12. Create two matrices \\( A \\) (3x4) and \\( B \\) (4x3), and compute the matrix product \\( A \\cdot B \\).  \n"
   ]
  },
  {
   "cell_type": "code",
   "execution_count": 61,
   "metadata": {},
   "outputs": [
    {
     "name": "stdout",
     "output_type": "stream",
     "text": [
      "Matrix A (3x4):\n",
      "[[0.75306052 0.40840335 0.76809614 0.14217299]\n",
      " [0.72626616 0.77237428 0.20488333 0.71879339]\n",
      " [0.10028928 0.93291913 0.5560393  0.80893839]]\n",
      "Matrix B (4x3):\n",
      "[[0.41766628 0.71798118 0.88352854]\n",
      " [0.12777572 0.60716328 0.2045665 ]\n",
      " [0.56427032 0.18668185 0.28989994]\n",
      " [0.88089487 0.00326803 0.44126008]]\n",
      "Matrix Product (A • B):\n",
      "[[0.92536533 0.93250503 1.03430239]\n",
      " [1.15081856 1.03099977 1.17624927]\n",
      " [1.18743802 0.74488613 0.79760042]]\n"
     ]
    }
   ],
   "source": [
    "matrix_A_3x4 = np.random.random((3, 4))\n",
    "matrix_B_4x3 = np.random.random((4, 3))\n",
    "matrix_product_AB = np.dot(matrix_A_3x4, matrix_B_4x3)\n",
    "\n",
    "print(\"Matrix A (3x4):\")\n",
    "print(matrix_A_3x4)\n",
    "print(\"Matrix B (4x3):\")\n",
    "print(matrix_B_4x3)\n",
    "print(\"Matrix Product (A • B):\")\n",
    "print(matrix_product_AB)"
   ]
  },
  {
   "cell_type": "markdown",
   "metadata": {},
   "source": [
    "13. Create a 3x3 random matrix and a 3-element column vector. Compute the matrix-vector product.  \n"
   ]
  },
  {
   "cell_type": "code",
   "execution_count": 62,
   "metadata": {},
   "outputs": [
    {
     "name": "stdout",
     "output_type": "stream",
     "text": [
      "3x3 Random Matrix:\n",
      "[[0.76276796 0.42221647 0.60941413]\n",
      " [0.09835905 0.73317313 0.63876661]\n",
      " [0.94268985 0.84311447 0.13728264]]\n",
      "3-element Column Vector:\n",
      "[0.68607428 0.12786768 0.02139737]\n",
      "Matrix-Vector Product:\n",
      "[0.59034318 0.17489869 0.75749984]\n"
     ]
    }
   ],
   "source": [
    "matrix_3x3_rnd = np.random.random((3, 3))\n",
    "vector_3 = np.random.random(3)\n",
    "matrix_vector_product = np.dot(matrix_3x3_rnd, vector_3)\n",
    "\n",
    "print(\"3x3 Random Matrix:\")\n",
    "print(matrix_3x3_rnd)\n",
    "print(\"3-element Column Vector:\")\n",
    "print(vector_3)\n",
    "print(\"Matrix-Vector Product:\")\n",
    "print(matrix_vector_product)\n",
    "\n"
   ]
  },
  {
   "cell_type": "markdown",
   "metadata": {},
   "source": [
    "14. Solve the linear system \\( Ax = b \\) where \\( A \\) is a 3x3 matrix, and \\( b \\) is a 3x1 column vector.  \n"
   ]
  },
  {
   "cell_type": "code",
   "execution_count": 64,
   "metadata": {},
   "outputs": [
    {
     "name": "stdout",
     "output_type": "stream",
     "text": [
      "Matrix A (3x3):\n",
      "[[1.24000911e-01 1.92846630e-04 3.47114588e-01]\n",
      " [5.47813959e-02 2.33989350e-01 9.42493754e-01]\n",
      " [9.95430066e-01 1.43781956e-01 1.11880413e-01]]\n",
      "Column Vector b (3x1):\n",
      "[0.42651792 0.47708005 0.59655523]\n",
      "Solution Vector x:\n",
      "[ 0.7779493  -1.97759536  0.95194175]\n"
     ]
    }
   ],
   "source": [
    "A_3x3 = np.random.random((3, 3))\n",
    "b_3x1 = np.random.random(3)\n",
    "x = np.linalg.solve(A_3x3, b_3x1)\n",
    "\n",
    "print(\"Matrix A (3x3):\")\n",
    "print(A_3x3)\n",
    "print(\"Column Vector b (3x1):\")\n",
    "print(b_3x1)\n",
    "print(\"Solution Vector x:\")\n",
    "print(x)\n"
   ]
  },
  {
   "cell_type": "markdown",
   "metadata": {},
   "source": [
    "15. Given a 5x5 matrix, find the row-wise and column-wise sums."
   ]
  },
  {
   "cell_type": "code",
   "execution_count": 63,
   "metadata": {},
   "outputs": [
    {
     "name": "stdout",
     "output_type": "stream",
     "text": [
      "5x5 Matrix:\n",
      "[[0.71083985 0.82487078 0.82101632 0.65871231 0.27834255]\n",
      " [0.21293462 0.55890108 0.84142253 0.14362986 0.7696953 ]\n",
      " [0.9162699  0.56839276 0.92470487 0.32037271 0.31362641]\n",
      " [0.18387756 0.92866637 0.26641613 0.35905799 0.07844341]\n",
      " [0.72946218 0.75382111 0.46418271 0.31306926 0.88025066]]\n",
      "Row-wise Sums:\n",
      "[3.29378182 2.5265834  3.04336665 1.81646146 3.14078592]\n",
      "Column-wise Sums:\n",
      "[2.75338411 3.6346521  3.31774257 1.79484213 2.32035833]\n"
     ]
    }
   ],
   "source": [
    "matrix_5x5 = np.random.random((5, 5))\n",
    "row_sums = matrix_5x5.sum(axis=1)\n",
    "column_sums = matrix_5x5.sum(axis=0)\n",
    "\n",
    "print(\"5x5 Matrix:\")\n",
    "print(matrix_5x5)\n",
    "print(\"Row-wise Sums:\")\n",
    "print(row_sums)\n",
    "print(\"Column-wise Sums:\")\n",
    "print(column_sums)\n"
   ]
  },
  {
   "cell_type": "code",
   "execution_count": null,
   "metadata": {},
   "outputs": [],
   "source": []
  }
 ],
 "metadata": {
  "kernelspec": {
   "display_name": "Python 3",
   "language": "python",
   "name": "python3"
  },
  "language_info": {
   "codemirror_mode": {
    "name": "ipython",
    "version": 3
   },
   "file_extension": ".py",
   "mimetype": "text/x-python",
   "name": "python",
   "nbconvert_exporter": "python",
   "pygments_lexer": "ipython3",
   "version": "3.12.8"
  }
 },
 "nbformat": 4,
 "nbformat_minor": 2
}
