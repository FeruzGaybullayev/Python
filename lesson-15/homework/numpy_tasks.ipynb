{
 "cells": [
  {
   "cell_type": "markdown",
   "metadata": {},
   "source": [
    "1. Create a vector with values ranging from 10 to 49."
   ]
  },
  {
   "cell_type": "code",
   "execution_count": 27,
   "metadata": {},
   "outputs": [
    {
     "name": "stdout",
     "output_type": "stream",
     "text": [
      "Vector: [10 11 12 13 14 15 16 17 18 19 20 21 22 23 24 25 26 27 28 29 30 31 32 33\n",
      " 34 35 36 37 38 39 40 41 42 43 44 45 46 47 48 49]\n"
     ]
    }
   ],
   "source": [
    "import numpy as np\n",
    "vector = np.arange(10, 50)\n",
    "print(\"Vector:\", vector)"
   ]
  },
  {
   "cell_type": "markdown",
   "metadata": {},
   "source": [
    "2. Create a 3x3 matrix with values ranging from 0 to 8."
   ]
  },
  {
   "cell_type": "code",
   "execution_count": 28,
   "metadata": {},
   "outputs": [
    {
     "name": "stdout",
     "output_type": "stream",
     "text": [
      "[[0 1 2]\n",
      " [3 4 5]\n",
      " [6 7 8]]\n"
     ]
    }
   ],
   "source": [
    "vector_0_8 = np.arange(9)\n",
    "matrix_3x3 = vector_0_8.reshape(3, 3)\n",
    "print(matrix_3x3)"
   ]
  },
  {
   "cell_type": "markdown",
   "metadata": {},
   "source": [
    "3. Create a 3x3 identity matrix."
   ]
  },
  {
   "cell_type": "code",
   "execution_count": 29,
   "metadata": {},
   "outputs": [
    {
     "name": "stdout",
     "output_type": "stream",
     "text": [
      "[[1 0 0]\n",
      " [0 1 0]\n",
      " [0 0 1]]\n"
     ]
    }
   ],
   "source": [
    "creat_identity_matrix = np.array([\n",
    "    [1, 0, 0], [0, 1, 0], [0, 0, 1]\n",
    "    ])\n",
    "print(creat_identity_matrix)"
   ]
  },
  {
   "cell_type": "code",
   "execution_count": 30,
   "metadata": {},
   "outputs": [
    {
     "name": "stdout",
     "output_type": "stream",
     "text": [
      "3x3 Identity Matrix:\n",
      "[[1. 0. 0.]\n",
      " [0. 1. 0.]\n",
      " [0. 0. 1.]]\n"
     ]
    }
   ],
   "source": [
    "identity_matrix = np.eye(3)\n",
    "print(\"3x3 Identity Matrix:\")\n",
    "print(identity_matrix)"
   ]
  },
  {
   "cell_type": "markdown",
   "metadata": {},
   "source": [
    "4. Create a 3x3x3 array with random values."
   ]
  },
  {
   "cell_type": "code",
   "execution_count": 39,
   "metadata": {},
   "outputs": [
    {
     "name": "stdout",
     "output_type": "stream",
     "text": [
      "3x3x3 Random array:\n",
      "[[[0.30919453 0.47683848 0.7694385 ]\n",
      "  [0.93410063 0.36928163 0.97985279]\n",
      "  [0.65145815 0.00143593 0.67639618]]\n",
      "\n",
      " [[0.63784581 0.47555925 0.82448138]\n",
      "  [0.63813554 0.56173471 0.05520651]\n",
      "  [0.57073308 0.63120058 0.66122777]]\n",
      "\n",
      " [[0.07131107 0.77661559 0.8605154 ]\n",
      "  [0.17998928 0.23756092 0.663138  ]\n",
      "  [0.4080414  0.27569841 0.52085853]]]\n"
     ]
    }
   ],
   "source": [
    "random_array_3x3x3 = np.random.random((3, 3, 3))\n",
    "print(\"3x3x3 Random array:\")\n",
    "print(random_array_3x3x3)"
   ]
  },
  {
   "cell_type": "markdown",
   "metadata": {},
   "source": [
    "5. Create a 10x10 array with random values and find the minimum and maximum values."
   ]
  },
  {
   "cell_type": "code",
   "execution_count": 50,
   "metadata": {},
   "outputs": [
    {
     "name": "stdout",
     "output_type": "stream",
     "text": [
      "10x10 Random array:\n",
      "[[0.29526004 0.7761372  0.70836388 0.03884595 0.64997121 0.74195693\n",
      "  0.54399999 0.21051154 0.27089646 0.26956648]\n",
      " [0.30851397 0.45022104 0.56616735 0.15325448 0.20583227 0.9798552\n",
      "  0.75750074 0.91321004 0.12186436 0.82356842]\n",
      " [0.6783028  0.15099761 0.65508935 0.17724383 0.84486039 0.6833645\n",
      "  0.54250318 0.29033709 0.76387024 0.17664433]\n",
      " [0.6954544  0.803158   0.71899411 0.0340074  0.46121909 0.07093481\n",
      "  0.06273308 0.83855388 0.60833562 0.72565315]\n",
      " [0.01142587 0.23587865 0.91746312 0.27674837 0.73691664 0.94849763\n",
      "  0.79991762 0.02937588 0.05912332 0.00684393]\n",
      " [0.18169823 0.16798467 0.33675181 0.36166095 0.66355182 0.64454064\n",
      "  0.02096833 0.59315963 0.84249594 0.79887315]\n",
      " [0.92721182 0.08019715 0.40703944 0.61062587 0.72563661 0.79634582\n",
      "  0.24609538 0.89006977 0.84312431 0.54208487]\n",
      " [0.82764481 0.09538661 0.92783317 0.93002511 0.96366167 0.65501428\n",
      "  0.70426257 0.76015932 0.19922832 0.66093858]\n",
      " [0.48954815 0.30075715 0.48681149 0.48799625 0.23679844 0.34398181\n",
      "  0.67269049 0.42399651 0.51247458 0.26500588]\n",
      " [0.64721636 0.54766876 0.63287699 0.97924891 0.24362803 0.911963\n",
      "  0.72818226 0.72477813 0.79455643 0.76937282]]\n",
      "Min value: 0.00684393337068212\n",
      "Max value: 0.9798551958743426\n"
     ]
    }
   ],
   "source": [
    "random_array_10x10 = np.random.random((10, 10))\n",
    "\n",
    "min_val_10x10 = random_array_10x10.min()\n",
    "max_val_10x10 = random_array_10x10.max()\n",
    "\n",
    "print(\"10x10 Random array:\")\n",
    "print(random_array_10x10)\n",
    "\n",
    "print(\"Min value:\", min_val_10x10)\n",
    "print(\"Max value:\", max_val_10x10)"
   ]
  },
  {
   "cell_type": "markdown",
   "metadata": {},
   "source": [
    "6. Create a random vector of size 30 and find the mean value."
   ]
  },
  {
   "cell_type": "code",
   "execution_count": 63,
   "metadata": {},
   "outputs": [
    {
     "name": "stdout",
     "output_type": "stream",
     "text": [
      "[0.21167804 0.96393511 0.84765447 0.30086765 0.92031491 0.83957857\n",
      " 0.65982154 0.34918084 0.1365661  0.87274711 0.19699028 0.31975308\n",
      " 0.90821497 0.38008301 0.82056793 0.7388028  0.44041457 0.7331379\n",
      " 0.36377485 0.42138587 0.84270716 0.72176887 0.7257615  0.46415418\n",
      " 0.70035599 0.75080024 0.10058664 0.65215325 0.87855702 0.23512667]\n",
      "0.5832480377432927\n"
     ]
    }
   ],
   "source": [
    "random_vector_30x = np.random.random(30)\n",
    "mean_val = random_vector_30x.mean()\n",
    "print(random_vector_30x)\n",
    "print(mean_val)"
   ]
  },
  {
   "cell_type": "markdown",
   "metadata": {},
   "source": [
    "7. Normalize a 5x5 random matrix.\n"
   ]
  },
  {
   "cell_type": "code",
   "execution_count": 70,
   "metadata": {},
   "outputs": [
    {
     "name": "stdout",
     "output_type": "stream",
     "text": [
      "Tasodifiy 5x5 Matritsa:\n",
      "[[0.24265582 0.78644141 0.87710502 0.06901732 0.54626702]\n",
      " [0.17589436 0.17961996 0.46474575 0.97153324 0.91714902]\n",
      " [0.54713875 0.49627277 0.88072846 0.27004235 0.54155952]\n",
      " [0.53233171 0.2128728  0.60249641 0.90006531 0.94570872]\n",
      " [0.91087425 0.00205209 0.9144512  0.79597529 0.31475491]]\n",
      "Normallashtirilgan 5x5 Matritsa:\n",
      "[[0.24817783 0.80908156 0.90259922 0.06907326 0.56134658]\n",
      " [0.17931475 0.18315763 0.47725906 1.         0.94390379]\n",
      " [0.56224575 0.50977854 0.90633672 0.27642648 0.55649089]\n",
      " [0.54697259 0.21745725 0.61934605 0.92628229 0.97336253]\n",
      " [0.93743149 0.         0.94112104 0.81891556 0.32254657]]\n"
     ]
    }
   ],
   "source": [
    "# 5x5 o'lchamli tasodifiy matritsa yaratamiz\n",
    "random_matrix_5x5 = np.random.random((5, 5))\n",
    "\n",
    "# Matritsani normallashtiramiz \n",
    "normalized_matrix = (random_matrix_5x5 - random_matrix_5x5.min())/(random_matrix_5x5.max() - random_matrix_5x5.min())\n",
    "\n",
    "print(\"Tasodifiy 5x5 Matritsa:\") \n",
    "print(random_matrix_5x5) \n",
    "\n",
    "print(\"Normallashtirilgan 5x5 Matritsa:\") \n",
    "print(normalized_matrix)"
   ]
  },
  {
   "cell_type": "markdown",
   "metadata": {},
   "source": [
    "8. Multiply a 5x3 matrix by a 3x2 matrix (real matrix product).\n"
   ]
  },
  {
   "cell_type": "code",
   "execution_count": 73,
   "metadata": {},
   "outputs": [
    {
     "ename": "ValueError",
     "evalue": "operands could not be broadcast together with shapes (5,3) (3,2) ",
     "output_type": "error",
     "traceback": [
      "\u001b[1;31m---------------------------------------------------------------------------\u001b[0m",
      "\u001b[1;31mValueError\u001b[0m                                Traceback (most recent call last)",
      "Cell \u001b[1;32mIn[73], line 4\u001b[0m\n\u001b[0;32m      1\u001b[0m matrix_5x3 \u001b[38;5;241m=\u001b[39m np\u001b[38;5;241m.\u001b[39mrandom\u001b[38;5;241m.\u001b[39mrandom((\u001b[38;5;241m5\u001b[39m, \u001b[38;5;241m3\u001b[39m))\n\u001b[0;32m      2\u001b[0m matrix_3x2 \u001b[38;5;241m=\u001b[39m np\u001b[38;5;241m.\u001b[39mrandom\u001b[38;5;241m.\u001b[39mrandom((\u001b[38;5;241m3\u001b[39m, \u001b[38;5;241m2\u001b[39m))\n\u001b[1;32m----> 4\u001b[0m multply_matrix \u001b[38;5;241m=\u001b[39m \u001b[43mmatrix_5x3\u001b[49m\u001b[43m \u001b[49m\u001b[38;5;241;43m*\u001b[39;49m\u001b[43m \u001b[49m\u001b[43mmatrix_3x2\u001b[49m\n",
      "\u001b[1;31mValueError\u001b[0m: operands could not be broadcast together with shapes (5,3) (3,2) "
     ]
    }
   ],
   "source": [
    "matrix_5x3 = np.random.random((5, 3))\n",
    "matrix_3x2 = np.random.random((3, 2))\n",
    "\n",
    "multply_matrix = matrix_5x3 * matrix_3x2"
   ]
  },
  {
   "cell_type": "markdown",
   "metadata": {},
   "source": [
    "9. Create two 3x3 matrices and compute their dot product.  \n"
   ]
  },
  {
   "cell_type": "markdown",
   "metadata": {},
   "source": [
    "10. Given a 4x4 matrix, find its transpose.  \n"
   ]
  },
  {
   "cell_type": "markdown",
   "metadata": {},
   "source": [
    "11. Create a 3x3 matrix and calculate its determinant.  \n"
   ]
  },
  {
   "cell_type": "markdown",
   "metadata": {},
   "source": [
    "12. Create two matrices \\( A \\) (3x4) and \\( B \\) (4x3), and compute the matrix product \\( A \\cdot B \\).  \n"
   ]
  },
  {
   "cell_type": "markdown",
   "metadata": {},
   "source": [
    "13. Create a 3x3 random matrix and a 3-element column vector. Compute the matrix-vector product.  \n"
   ]
  },
  {
   "cell_type": "markdown",
   "metadata": {},
   "source": [
    "14. Solve the linear system \\( Ax = b \\) where \\( A \\) is a 3x3 matrix, and \\( b \\) is a 3x1 column vector.  \n"
   ]
  },
  {
   "cell_type": "markdown",
   "metadata": {},
   "source": [
    "15. Given a 5x5 matrix, find the row-wise and column-wise sums."
   ]
  }
 ],
 "metadata": {
  "kernelspec": {
   "display_name": "Python 3",
   "language": "python",
   "name": "python3"
  },
  "language_info": {
   "codemirror_mode": {
    "name": "ipython",
    "version": 3
   },
   "file_extension": ".py",
   "mimetype": "text/x-python",
   "name": "python",
   "nbconvert_exporter": "python",
   "pygments_lexer": "ipython3",
   "version": "3.12.8"
  }
 },
 "nbformat": 4,
 "nbformat_minor": 2
}
