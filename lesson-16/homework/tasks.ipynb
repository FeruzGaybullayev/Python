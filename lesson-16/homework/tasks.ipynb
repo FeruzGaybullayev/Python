{
 "cells": [
  {
   "cell_type": "markdown",
   "metadata": {},
   "source": [
    "Task 1. Write a Python function that converts a temperature from Fahrenheit to Celsius. Use `numpy.vectorize` to apply this function to an array of temperatures: `[32, 68, 100, 212, 77]`. \n",
    "   - Formula: \\( C = (F - 32) \\times \\frac{5}{9} \\)\n",
    "\n",
    "---\n"
   ]
  },
  {
   "cell_type": "code",
   "execution_count": 12,
   "metadata": {},
   "outputs": [
    {
     "name": "stdout",
     "output_type": "stream",
     "text": [
      "Farangeyt: [ 32  68 100 212  77]\n",
      "Gradus selsi: [  0.          20.          37.77777778 100.          25.        ]\n"
     ]
    }
   ],
   "source": [
    "import numpy as np\n",
    "# Farangeytni gradus selsiga aylantiruvchi funksiya yaratamiz\n",
    "def farangeyt_to_gradus_selsiy(f):\n",
    "    return (f - 32) * 5/9\n",
    "\n",
    "# Farangeytda berilgan haroratlar massivi\n",
    "temperatures_f = np.array([32, 68, 100, 212, 77])\n",
    "\n",
    "# Funksiyani massivga qo'llash uchun vectorize qilamiz\n",
    "vectorized_conversion = np.vectorize(farangeyt_to_gradus_selsiy)\n",
    "\n",
    "# Gradus selsiy ni hisoblash\n",
    "temperatures_c = vectorized_conversion(temperatures_f)\n",
    "\n",
    "# Print\n",
    "print(\"Farangeyt:\", temperatures_f)\n",
    "print(\"Gradus selsi:\", temperatures_c)\n"
   ]
  },
  {
   "cell_type": "markdown",
   "metadata": {},
   "source": [
    "Task 2. Create a custom function that takes two arguments: a number and a power. Use `numpy.vectorize` to calculate the power for each pair of numbers in two arrays: `[2, 3, 4, 5]` and `[1, 2, 3, 4]`.\n",
    "\n",
    "---"
   ]
  },
  {
   "cell_type": "code",
   "execution_count": 22,
   "metadata": {},
   "outputs": [
    {
     "name": "stdout",
     "output_type": "stream",
     "text": [
      "Numbers: [2 3 4 5]\n",
      "Powers: [1 2 3 4]\n",
      "Numbers raized to Powers: [  2   9  64 625]\n"
     ]
    }
   ],
   "source": [
    "import numpy as np\n",
    "\n",
    "# Ikkita argumentni qabul qiladigan funksiya: son va daraja\n",
    "def raise_the_number(number, power):\n",
    "    return number ** power\n",
    "\n",
    "# Birinchi massiv\n",
    "numbers = np.array([2, 3, 4, 5])\n",
    "# Ikkinchi massiv\n",
    "powers = np.array([1, 2, 3, 4])\n",
    "\n",
    "# Funksiyani massivga qo'llash uchun vectorize qilamiz\n",
    "vectorized_func = np.vectorize(raise_the_number)\n",
    "\n",
    "# Har bir juflik uchun darajani hisoblash\n",
    "result = vectorized_func(numbers, powers)\n",
    "\n",
    "# Print\n",
    "print(\"Numbers:\", numbers)\n",
    "print(\"Powers:\", powers)\n",
    "print(\"Numbers raized to Powers:\", result)"
   ]
  },
  {
   "cell_type": "markdown",
   "metadata": {},
   "source": [
    "Task 3. Solve the system of equations using `numpy`:\n",
    "   \\[\n",
    "   4x + 5y + 6z = 7 \\\\\n",
    "   3x - y + z = 4 \\\\\n",
    "   2x + y - 2z = 5\n",
    "   \\]\n",
    "\n",
    "---"
   ]
  },
  {
   "cell_type": "code",
   "execution_count": 28,
   "metadata": {},
   "outputs": [
    {
     "name": "stdout",
     "output_type": "stream",
     "text": [
      "Teskari matritsa usuli bilan yechim print (x, y, z): [ 1.7027027   0.62162162 -0.48648649]\n"
     ]
    }
   ],
   "source": [
    "import numpy as np\n",
    "\n",
    "# 4x + 5y + 6z = 7\n",
    "# 3x - y + z = 4 \n",
    "# 2x + y - 2z = 5\n",
    "\n",
    "# Koyfitsiyentlar matritsasini tuzamiz\n",
    "a = np.array([[4, 5, 6],\n",
    "              [3, -1, 1],\n",
    "              [2, 1, -2]])\n",
    "\n",
    "# Ozod hadlardan vektor tuzamiz\n",
    "b = np.array([7, 4, 5])\n",
    "\n",
    "# a matritsani teskari matritsasini hisoblash \n",
    "a_inv = np.linalg.inv(a)\n",
    "\n",
    "# Tenglamani yechish\n",
    "# x = a**(-1) * b\n",
    "solution = np.dot(a_inv, b)\n",
    "\n",
    "# Print\n",
    "print(\"Teskari matritsa usuli bilan yechim print (x, y, z):\", solution)"
   ]
  },
  {
   "cell_type": "markdown",
   "metadata": {},
   "source": [
    "Task 4. Given the electrical circuit equations below"
   ]
  },
  {
   "cell_type": "code",
   "execution_count": 33,
   "metadata": {},
   "outputs": [
    {
     "name": "stdout",
     "output_type": "stream",
     "text": [
      "Javob:\n",
      "      (I_1, I_2, I_3):,\n",
      "      [ 0.48963731 -0.2253886   2.21761658]\n"
     ]
    }
   ],
   "source": [
    "import numpy as np\n",
    "\n",
    "# Koeffitsiyentlar matritsasi\n",
    "A = np.array([[10, -2, 3], [-2, 8, -1], [3, -1, 6]]) \n",
    "\n",
    "# Ozod hadlar vektori \n",
    "b = np.array([12, -5, 15]) \n",
    "\n",
    "# Tenglamani yechish \n",
    "currents = np.linalg.solve(A, b) \n",
    "\n",
    "print(f\"\"\"Javob:\n",
    "      (I_1, I_2, I_3):,\n",
    "      {currents}\"\"\")"
   ]
  },
  {
   "cell_type": "code",
   "execution_count": null,
   "metadata": {},
   "outputs": [],
   "source": []
  }
 ],
 "metadata": {
  "kernelspec": {
   "display_name": "Python 3",
   "language": "python",
   "name": "python3"
  },
  "language_info": {
   "codemirror_mode": {
    "name": "ipython",
    "version": 3
   },
   "file_extension": ".py",
   "mimetype": "text/x-python",
   "name": "python",
   "nbconvert_exporter": "python",
   "pygments_lexer": "ipython3",
   "version": "3.12.8"
  }
 },
 "nbformat": 4,
 "nbformat_minor": 2
}
