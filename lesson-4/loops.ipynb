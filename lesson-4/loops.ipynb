{
 "cells": [
  {
   "cell_type": "code",
   "execution_count": 15,
   "metadata": {},
   "outputs": [
    {
     "name": "stdout",
     "output_type": "stream",
     "text": [
      "Executed. n = 10\n",
      "Executed. n = 11\n",
      "Executed. n = 12\n",
      "Executed. n = 13\n",
      "Executed. n = 14\n",
      "Executed. n = 15\n",
      "Executed. n = 16\n",
      "Executed. n = 17\n",
      "Executed. n = 18\n",
      "Executed. n = 19\n",
      "Executed. n = 20\n"
     ]
    }
   ],
   "source": [
    "n = 10\n",
    "\n",
    "while n <= 20:\n",
    "    print(\"Executed. n =\", n)\n",
    "    n += 1\n"
   ]
  },
  {
   "cell_type": "code",
   "execution_count": 19,
   "metadata": {},
   "outputs": [
    {
     "name": "stdout",
     "output_type": "stream",
     "text": [
      "Still running\n"
     ]
    }
   ],
   "source": [
    "while True:\n",
    "    print(\"Still running\")\n",
    "    break\n"
   ]
  },
  {
   "cell_type": "code",
   "execution_count": 25,
   "metadata": {},
   "outputs": [
    {
     "name": "stdout",
     "output_type": "stream",
     "text": [
      "cnt =  1\n",
      "cnt =  2\n",
      "cnt =  3\n",
      "cnt =  4\n",
      "cnt =  5\n",
      "cnt =  6\n",
      "cnt =  7\n",
      "cnt =  8\n",
      "cnt =  9\n",
      "cnt =  10\n",
      "cnt =  11\n",
      "cnt =  12\n",
      "cnt =  13\n",
      "cnt =  14\n",
      "cnt =  15\n",
      "cnt =  16\n",
      "cnt =  17\n",
      "cnt =  18\n",
      "cnt =  19\n",
      "cnt =  20\n"
     ]
    }
   ],
   "source": [
    "cnt = 1\n",
    "\n",
    "while True:\n",
    "    print(\"cnt = \", cnt)\n",
    "    cnt += 1\n",
    "    if cnt == 21:\n",
    "        break"
   ]
  },
  {
   "cell_type": "code",
   "execution_count": 27,
   "metadata": {},
   "outputs": [
    {
     "name": "stdout",
     "output_type": "stream",
     "text": [
      "cnt = 2\n",
      "cnt = 3\n",
      "cnt = 4\n",
      "cnt = 5\n",
      "cnt = 6\n",
      "cnt = 7\n",
      "cnt = 8\n",
      "cnt = 9\n",
      "cnt = 11\n",
      "cnt = 12\n",
      "cnt = 13\n",
      "cnt = 14\n",
      "cnt = 16\n",
      "cnt = 17\n",
      "cnt = 18\n",
      "cnt = 19\n"
     ]
    }
   ],
   "source": [
    "cnt = 1\n",
    "\n",
    "while cnt < 20:\n",
    "    cnt += 1\n",
    "    if cnt in (10,15,20):\n",
    "        continue\n",
    "    print(\"cnt =\", cnt)"
   ]
  },
  {
   "cell_type": "code",
   "execution_count": 29,
   "metadata": {},
   "outputs": [
    {
     "name": "stdout",
     "output_type": "stream",
     "text": [
      "Number not found\n",
      "[0, 1, 2]\n"
     ]
    }
   ],
   "source": [
    "l = [1,2,3]\n",
    "i = 0\n",
    "check_number = 6\n",
    "\n",
    "i_list = []\n",
    "while i < len(l):\n",
    "    i_list.append(i)\n",
    "    if l[i] == check_number:\n",
    "        print(\"Found\")\n",
    "        break\n",
    "    i += 1\n",
    "else:\n",
    "    print(\"Number not found\")\n",
    "    print(i_list)"
   ]
  },
  {
   "cell_type": "code",
   "execution_count": null,
   "metadata": {},
   "outputs": [],
   "source": []
  }
 ],
 "metadata": {
  "kernelspec": {
   "display_name": "Python 3",
   "language": "python",
   "name": "python3"
  },
  "language_info": {
   "codemirror_mode": {
    "name": "ipython",
    "version": 3
   },
   "file_extension": ".py",
   "mimetype": "text/x-python",
   "name": "python",
   "nbconvert_exporter": "python",
   "pygments_lexer": "ipython3",
   "version": "3.12.8"
  }
 },
 "nbformat": 4,
 "nbformat_minor": 2
}
