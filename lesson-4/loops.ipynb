{
 "cells": [
  {
   "cell_type": "code",
   "execution_count": 7,
   "metadata": {},
   "outputs": [
    {
     "name": "stdout",
     "output_type": "stream",
     "text": [
      "Executed. n = 10\n",
      "Executed. n = 11\n",
      "Executed. n = 12\n",
      "Executed. n = 13\n",
      "Executed. n = 14\n",
      "Executed. n = 15\n",
      "Executed. n = 16\n",
      "Executed. n = 17\n",
      "Executed. n = 18\n",
      "Executed. n = 19\n",
      "Executed. n = 20\n"
     ]
    }
   ],
   "source": [
    "n = 10\n",
    "\n",
    "while n <= 20:\n",
    "    print(\"Executed. n =\", n)\n",
    "    n += 1\n"
   ]
  },
  {
   "cell_type": "code",
   "execution_count": null,
   "metadata": {},
   "outputs": [],
   "source": [
    "print(n)"
   ]
  },
  {
   "cell_type": "code",
   "execution_count": null,
   "metadata": {},
   "outputs": [],
   "source": []
  }
 ],
 "metadata": {
  "kernelspec": {
   "display_name": "Python 3",
   "language": "python",
   "name": "python3"
  },
  "language_info": {
   "codemirror_mode": {
    "name": "ipython",
    "version": 3
   },
   "file_extension": ".py",
   "mimetype": "text/x-python",
   "name": "python",
   "nbconvert_exporter": "python",
   "pygments_lexer": "ipython3",
   "version": "3.12.8"
  }
 },
 "nbformat": 4,
 "nbformat_minor": 2
}
