{
 "cells": [
  {
   "cell_type": "markdown",
   "metadata": {},
   "source": [
    "Count Occurrences: Given a list and an element, find how many times the element appears in the list."
   ]
  },
  {
   "cell_type": "code",
   "execution_count": 3,
   "metadata": {},
   "outputs": [
    {
     "name": "stdout",
     "output_type": "stream",
     "text": [
      "a ro'yxatda 0 marta uchraydi.\n"
     ]
    }
   ],
   "source": [
    "list_of_elements = input(\"Enter a list:\").split()\n",
    "n = input(\"Elementni kiriting: \")\n",
    "\n",
    "# Element qanchalik ko'p marta uchrayotganini hisoblash\n",
    "count = list_of_elements.count(n)\n",
    "\n",
    "print(f\"{n} ro'yxatda {count} marta uchraydi.\")"
   ]
  },
  {
   "cell_type": "markdown",
   "metadata": {},
   "source": [
    "Sum of Elements: Given a list of numbers, calculate the total of all the elements."
   ]
  },
  {
   "cell_type": "code",
   "execution_count": 6,
   "metadata": {},
   "outputs": [
    {
     "name": "stdout",
     "output_type": "stream",
     "text": [
      "21\n"
     ]
    }
   ],
   "source": [
    "list_of_elements = input(\"Enter a list:\")\n",
    "print(len(list_of_elements))"
   ]
  },
  {
   "cell_type": "markdown",
   "metadata": {},
   "source": [
    "Max Element: From a given list, determine the largest element."
   ]
  },
  {
   "cell_type": "code",
   "execution_count": 8,
   "metadata": {},
   "outputs": [
    {
     "name": "stdout",
     "output_type": "stream",
     "text": [
      "Eng katta element: 6341324\n"
     ]
    }
   ],
   "source": [
    "list_of_elements = input(\"Enter a list (elements separated by space): \").split()\n",
    "\n",
    "list_of_elements = [int(i) for i in list_of_elements]\n",
    "\n",
    "max_element = max(list_of_elements)\n",
    "\n",
    "print(f\"Eng katta element: {max_element}\")\n"
   ]
  },
  {
   "cell_type": "markdown",
   "metadata": {},
   "source": [
    "Min Element: From a given list, determine the smallest element."
   ]
  },
  {
   "cell_type": "code",
   "execution_count": 10,
   "metadata": {},
   "outputs": [
    {
     "name": "stdout",
     "output_type": "stream",
     "text": [
      "4\n"
     ]
    }
   ],
   "source": [
    "min_elements = min(list_of_elements)\n",
    "print(min_elements)"
   ]
  },
  {
   "cell_type": "markdown",
   "metadata": {},
   "source": [
    "Check Element: Given a list and an element, check if the element is present in the list."
   ]
  },
  {
   "cell_type": "code",
   "execution_count": null,
   "metadata": {},
   "outputs": [],
   "source": [
    "list_main = input(\"Enter main list : \")\n",
    "element = input(\"Enter element : \")\n",
    "if element in list_main:\n",
    "    print(\"Element have in list\")\n",
    "else:\n",
    "    print(\"Element don't have in list\")"
   ]
  }
 ],
 "metadata": {
  "kernelspec": {
   "display_name": "Python 3",
   "language": "python",
   "name": "python3"
  },
  "language_info": {
   "codemirror_mode": {
    "name": "ipython",
    "version": 3
   },
   "file_extension": ".py",
   "mimetype": "text/x-python",
   "name": "python",
   "nbconvert_exporter": "python",
   "pygments_lexer": "ipython3",
   "version": "3.12.8"
  }
 },
 "nbformat": 4,
 "nbformat_minor": 2
}
