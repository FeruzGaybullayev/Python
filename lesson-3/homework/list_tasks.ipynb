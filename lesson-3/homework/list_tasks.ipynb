{
 "cells": [
  {
   "cell_type": "markdown",
   "metadata": {},
   "source": [
    "1. Count Occurrences: Given a list and an element, find how many times the element appears in the list."
   ]
  },
  {
   "cell_type": "code",
   "execution_count": 98,
   "metadata": {},
   "outputs": [
    {
     "name": "stdout",
     "output_type": "stream",
     "text": [
      "1\n"
     ]
    }
   ],
   "source": [
    "def count_occurences(my_list, element):\n",
    "    return my_list.count(element)\n",
    "\n",
    "my_list = [0,1,2,3,4,5,6,7,8,9]\n",
    "element = 2\n",
    "count = count_occurences(my_list, element)\n",
    "print(count)"
   ]
  },
  {
   "cell_type": "markdown",
   "metadata": {},
   "source": [
    "2. Sum of Elements: Given a list of numbers, calculate the total of all the elements."
   ]
  },
  {
   "cell_type": "code",
   "execution_count": 99,
   "metadata": {},
   "outputs": [
    {
     "name": "stdout",
     "output_type": "stream",
     "text": [
      "15\n"
     ]
    }
   ],
   "source": [
    "def sum_of_elements(numbers):\n",
    "    total = sum(numbers)\n",
    "    return total\n",
    "my_list = [1,2,3,4,5]\n",
    "total_sum = sum_of_elements(my_list)\n",
    "print(total_sum)\n"
   ]
  },
  {
   "cell_type": "markdown",
   "metadata": {},
   "source": [
    "3. Max Element: From a given list, determine the largest element.\n"
   ]
  },
  {
   "cell_type": "code",
   "execution_count": 100,
   "metadata": {},
   "outputs": [
    {
     "name": "stdout",
     "output_type": "stream",
     "text": [
      "674844487\n"
     ]
    }
   ],
   "source": [
    "my_list = [1,2,3,4,5,674844487,77854,4484545,90000000]\n",
    "\n",
    "def find_max_element(numbers):\n",
    "    if not numbers:\n",
    "        return None\n",
    "    max_num = numbers[0]\n",
    "    for num in numbers:\n",
    "        if num > max_num:\n",
    "            max_num = num\n",
    "    return max_num\n",
    "\n",
    "\n",
    "print(find_max_element(my_list))"
   ]
  },
  {
   "cell_type": "markdown",
   "metadata": {},
   "source": [
    "4. Min Element: From a given list, determine the smallest element.\n"
   ]
  },
  {
   "cell_type": "code",
   "execution_count": 101,
   "metadata": {},
   "outputs": [
    {
     "name": "stdout",
     "output_type": "stream",
     "text": [
      "1\n"
     ]
    }
   ],
   "source": [
    "my_list = [1,2,3,4,5,674844487,77854,4484545,90000000]\n",
    "\n",
    "def find_min_element(numbers):\n",
    "    if not numbers:\n",
    "        return None\n",
    "    min_num = numbers[0]\n",
    "    for num in numbers:\n",
    "        if num < min_num:\n",
    "            min_num = num\n",
    "    return min_num\n",
    "\n",
    "\n",
    "print(find_min_element(my_list))"
   ]
  },
  {
   "cell_type": "markdown",
   "metadata": {},
   "source": [
    "5. Check Element: Given a list and an element, check if the element is present in the list.\n"
   ]
  },
  {
   "cell_type": "code",
   "execution_count": 102,
   "metadata": {},
   "outputs": [
    {
     "name": "stdout",
     "output_type": "stream",
     "text": [
      "Element mavjud\n"
     ]
    }
   ],
   "source": [
    "def check_element(my_list, element):\n",
    "    return element in my_list\n",
    "\n",
    "my_list = [1,2,3,4,5,6,7,8,9]\n",
    "element_to_check = 2\n",
    "if check_element(my_list, element_to_check):\n",
    "    print(\"Element mavjud\")\n",
    "else:\n",
    "    print(\"Element mavjud emas\")"
   ]
  },
  {
   "cell_type": "markdown",
   "metadata": {},
   "source": [
    "6. First Element: Access the first element of a list, considering what to return if the list is empty."
   ]
  },
  {
   "cell_type": "code",
   "execution_count": 103,
   "metadata": {},
   "outputs": [
    {
     "name": "stdout",
     "output_type": "stream",
     "text": [
      "10\n",
      "List bo'sh.\n"
     ]
    }
   ],
   "source": [
    "def get_first_element(my_list):\n",
    "    if my_list:\n",
    "        return my_list[0]\n",
    "    else:\n",
    "        return \"List bo'sh.\"\n",
    "\n",
    "my_list = [10, 20, 30]\n",
    "first_element = get_first_element(my_list)\n",
    "print(first_element)\n",
    "\n",
    "empty_list = []\n",
    "first_element_empty = get_first_element(empty_list)\n",
    "print(first_element_empty)"
   ]
  },
  {
   "cell_type": "markdown",
   "metadata": {},
   "source": [
    "7. Last Element: Access the last element of a list, considering what to return if the list is empty.\n"
   ]
  },
  {
   "cell_type": "code",
   "execution_count": 104,
   "metadata": {},
   "outputs": [
    {
     "name": "stdout",
     "output_type": "stream",
     "text": [
      "30\n"
     ]
    }
   ],
   "source": [
    "def get_last_element(my_list):\n",
    "    if my_list:\n",
    "        return my_list[-1]\n",
    "    else:\n",
    "        return \"List bo'sh.\"\n",
    "\n",
    "my_list = [10, 20, 30]\n",
    "last_element = get_last_element(my_list)\n",
    "print(last_element)"
   ]
  },
  {
   "cell_type": "markdown",
   "metadata": {},
   "source": [
    "8. Slice List: Create a new list that contains only the first three elements of the original list.\n"
   ]
  },
  {
   "cell_type": "code",
   "execution_count": 105,
   "metadata": {},
   "outputs": [
    {
     "name": "stdout",
     "output_type": "stream",
     "text": [
      "[1, 2, 3]\n"
     ]
    }
   ],
   "source": [
    "def get_new_list(my_list):\n",
    "    if my_list:\n",
    "        return my_list[:3]\n",
    "    else:\n",
    "        return \"List bo'sh\"\n",
    "\n",
    "my_list = [1,2,3,4,5,6,7,8,9]\n",
    "new_list = get_new_list(my_list)\n",
    "print(new_list)"
   ]
  },
  {
   "cell_type": "markdown",
   "metadata": {},
   "source": [
    "9. Reverse List: Create a new list that contains the elements of the original list in reverse order.\n"
   ]
  },
  {
   "cell_type": "code",
   "execution_count": 106,
   "metadata": {},
   "outputs": [
    {
     "name": "stdout",
     "output_type": "stream",
     "text": [
      "[9, 8, 7, 6, 5, 4, 3, 2, 1]\n"
     ]
    }
   ],
   "source": [
    "def get_reverse_list(my_list):\n",
    "    return my_list[::-1]\n",
    "\n",
    "my_list = [1,2,3,4,5,6,7,8,9]\n",
    "reversed_list = get_reverse_list(my_list)\n",
    "print(reversed_list)"
   ]
  },
  {
   "cell_type": "markdown",
   "metadata": {},
   "source": [
    "10. Sort List: Create a new list that contains the elements of the original list in sorted order.\n"
   ]
  },
  {
   "cell_type": "code",
   "execution_count": 107,
   "metadata": {},
   "outputs": [
    {
     "name": "stdout",
     "output_type": "stream",
     "text": [
      "[1, 2, 2, 3, 3, 4, 5, 6, 6]\n"
     ]
    }
   ],
   "source": [
    "def get_sorted_list(orginal_list):\n",
    "    return sorted(orginal_list)\n",
    "\n",
    "orginal_list = [1,2,2,3,3,4,5,6,6]\n",
    "sorted_list = get_sorted_list(orginal_list)\n",
    "print(sorted_list)"
   ]
  },
  {
   "cell_type": "markdown",
   "metadata": {},
   "source": [
    "11. Remove Duplicates: Given a list, create a new list that contains only unique elements from the original list."
   ]
  },
  {
   "cell_type": "code",
   "execution_count": 108,
   "metadata": {},
   "outputs": [
    {
     "name": "stdout",
     "output_type": "stream",
     "text": [
      "[0, 1, 2, 4, 5, 7, 8, 9]\n"
     ]
    }
   ],
   "source": [
    "def remove_dublicates(orginal_list):\n",
    "    return list(set(orginal_list))\n",
    "\n",
    "orginal_list = [1,2,2,8,8,9,8,7,4,5,2,1,0]\n",
    "print(remove_dublicates(orginal_list))"
   ]
  },
  {
   "cell_type": "markdown",
   "metadata": {},
   "source": [
    "12. Insert Element: Given a list and an element, insert the element at a specified index."
   ]
  },
  {
   "cell_type": "code",
   "execution_count": 109,
   "metadata": {},
   "outputs": [
    {
     "name": "stdout",
     "output_type": "stream",
     "text": [
      "[0, 1, 2, 4, 5, 7, 8, 9]\n"
     ]
    }
   ],
   "source": [
    "def insert_element(lst,index,element):\n",
    "    lst.insert(index,element)\n",
    "    return lst\n",
    "\n",
    "my_list = [1,2,3,4,5,6,7,8,9]\n",
    "index_to_insert = 2\n",
    "element_to_insert = 99\n",
    "\n",
    "result = insert_element(my_list, index_to_insert, element_to_insert)\n",
    "print(remove_dublicates(orginal_list))"
   ]
  },
  {
   "cell_type": "markdown",
   "metadata": {},
   "source": [
    "13. Index of Element: Given a list and an element, find the index of the first occurrence of the element.\n"
   ]
  },
  {
   "cell_type": "code",
   "execution_count": 110,
   "metadata": {},
   "outputs": [
    {
     "name": "stdout",
     "output_type": "stream",
     "text": [
      "List bo'sh\n"
     ]
    }
   ],
   "source": [
    "def find_index(my_list,element):\n",
    "    try:\n",
    "        return my_list.index(element)\n",
    "    except ValueError:\n",
    "        return \"List bo'sh\"\n",
    "    \n",
    "my_list = [10,20,30,40,50]\n",
    "element = 200\n",
    "index = find_index(my_list, element)\n",
    "print(index)"
   ]
  },
  {
   "cell_type": "markdown",
   "metadata": {},
   "source": [
    "14. Check for Empty List: Determine if a list is empty and return a boolean.\n"
   ]
  },
  {
   "cell_type": "code",
   "execution_count": 111,
   "metadata": {},
   "outputs": [
    {
     "name": "stdout",
     "output_type": "stream",
     "text": [
      "List not empty\n"
     ]
    }
   ],
   "source": [
    "def is_empty_list(my_list,element):\n",
    "    if len(my_list) == 0:\n",
    "        return \"Empty list\"\n",
    "    else:\n",
    "        return \"List not empty\"\n",
    "\n",
    "\n",
    "natija = is_empty_list(my_list,element)\n",
    "print(natija)"
   ]
  },
  {
   "cell_type": "markdown",
   "metadata": {},
   "source": [
    "15. Count Even Numbers: Given a list of integers, count how many of them are even.\n"
   ]
  },
  {
   "cell_type": "code",
   "execution_count": 112,
   "metadata": {},
   "outputs": [
    {
     "name": "stdout",
     "output_type": "stream",
     "text": [
      "5\n"
     ]
    }
   ],
   "source": [
    "def count_even_numbers(numbers):\n",
    "    even_count = 0\n",
    "    for number in numbers:\n",
    "        if number % 2 == 0 :\n",
    "            even_count += 1 \n",
    "    return even_count\n",
    "    \n",
    "my_list = [0,1,2,3,4,5,6,7,8,9]\n",
    "print(count_even_numbers(my_list))"
   ]
  },
  {
   "cell_type": "markdown",
   "metadata": {},
   "source": [
    "16. Count Odd Numbers: Given a list of integers, count how many of them are odd."
   ]
  },
  {
   "cell_type": "code",
   "execution_count": 113,
   "metadata": {},
   "outputs": [
    {
     "name": "stdout",
     "output_type": "stream",
     "text": [
      "5\n"
     ]
    }
   ],
   "source": [
    "def count_odd_numbers(numbers):\n",
    "    odd_count = 0\n",
    "    for number in numbers:\n",
    "        if number % 2 != 0:\n",
    "            odd_count += 1 \n",
    "    return odd_count\n",
    "\n",
    "my_list = [1,2,3,4,5,6,7,8,9]\n",
    "print(count_odd_numbers(my_list))"
   ]
  },
  {
   "cell_type": "markdown",
   "metadata": {},
   "source": [
    "17. Concatenate Lists: Given two lists, create a new list that combines both lists."
   ]
  },
  {
   "cell_type": "code",
   "execution_count": 114,
   "metadata": {},
   "outputs": [
    {
     "name": "stdout",
     "output_type": "stream",
     "text": [
      "[1, 2, 3, 4, 3, 4, 5, 6, 7, 8, 9]\n"
     ]
    }
   ],
   "source": [
    "def combine_lists(list1,list2):\n",
    "    return list1 + list2\n",
    "\n",
    "list_1 = [1,2,3,4]\n",
    "list_2 = [3,4,5,6,7,8,9]\n",
    "\n",
    "print(combine_lists(list_1, list_2))"
   ]
  },
  {
   "cell_type": "markdown",
   "metadata": {},
   "source": [
    "18.  Find Sublist: Given a list and a sublist, check if the sublist exists within the list."
   ]
  },
  {
   "cell_type": "code",
   "execution_count": 115,
   "metadata": {},
   "outputs": [
    {
     "name": "stdout",
     "output_type": "stream",
     "text": [
      "True\n"
     ]
    }
   ],
   "source": [
    "def is_sublist(main_list, sublist):\n",
    "    sublist_length = len(sublist)\n",
    "\n",
    "    for i in range(len(main_list) - sublist_length + 1):\n",
    "        if main_list[i:i + sublist_length] == sublist:\n",
    "            return True\n",
    "    return False\n",
    "\n",
    "royxat = [1, 2, 3, 4, 5]\n",
    "sublist = [3, 4]\n",
    "\n",
    "natija = is_sublist(royxat, sublist)\n",
    "print(natija)"
   ]
  },
  {
   "cell_type": "markdown",
   "metadata": {},
   "source": [
    "19. Replace Element: Given a list, replace the first occurrence of a specified element with another element."
   ]
  },
  {
   "cell_type": "code",
   "execution_count": 116,
   "metadata": {},
   "outputs": [
    {
     "name": "stdout",
     "output_type": "stream",
     "text": [
      "[1, 3, 2, 3, 4, 5]\n"
     ]
    }
   ],
   "source": [
    "def replace_element(List, old_element, new_element):\n",
    "    try:\n",
    "        index = List.index(old_element)\n",
    "        List[index] = new_element\n",
    "    except ValueError:\n",
    "        pass \n",
    "    return List\n",
    "\n",
    "my_list =[1,1.2,2,3,4,5]\n",
    "result =replace_element(my_list,1.2,3)\n",
    "print(result)"
   ]
  },
  {
   "cell_type": "markdown",
   "metadata": {},
   "source": [
    "------\n",
    "20. **Find Second Largest**: From a given list, find the second largest element.\n",
    "-------"
   ]
  },
  {
   "cell_type": "code",
   "execution_count": 117,
   "metadata": {},
   "outputs": [
    {
     "name": "stdout",
     "output_type": "stream",
     "text": [
      "Second Largest = 15\n"
     ]
    }
   ],
   "source": [
    "# Find second largest \n",
    "def find_second_largest(l):\n",
    "    sorted_list = sorted(set(l), reverse =True)\n",
    "    if len(sorted_list) < 2:\n",
    "        return None\n",
    "    return sorted_list[1]\n",
    "# give a list\n",
    "numbers = [11, 12, 13, 14, 15, 11, 13, 15 ,11, 15, 19]\n",
    "\n",
    "# Take result \n",
    "second_largest = find_second_largest(numbers)\n",
    "\n",
    "print(\"Second Largest =\", second_largest)\n"
   ]
  },
  {
   "cell_type": "markdown",
   "metadata": {},
   "source": [
    "------------\n",
    "21. **Find Second Smallest**: From a given list, find the second smallest element.\n",
    "--------------"
   ]
  },
  {
   "cell_type": "code",
   "execution_count": 118,
   "metadata": {},
   "outputs": [
    {
     "name": "stdout",
     "output_type": "stream",
     "text": [
      "Second Smallest = 12\n"
     ]
    }
   ],
   "source": [
    "# Find second smallest \n",
    "def find_second_smallest(l):\n",
    "    sorted_list = sorted(set(l))\n",
    "    if len(sorted_list) < 2:\n",
    "        return None\n",
    "    return sorted_list[1]\n",
    "# give a list\n",
    "numbers = [11, 12, 13, 14, 15, 11, 13, 15 ,11, 15, 19]\n",
    "\n",
    "# Take result \n",
    "second_smallest = find_second_smallest(numbers)\n",
    "\n",
    "print(\"Second Smallest =\", second_smallest)"
   ]
  },
  {
   "cell_type": "markdown",
   "metadata": {},
   "source": [
    "-----------------\n",
    "22. **Filter Even Numbers**: Given a list of integers, create a new list that contains only the even numbers.\n",
    "-------------------"
   ]
  },
  {
   "cell_type": "code",
   "execution_count": 119,
   "metadata": {},
   "outputs": [
    {
     "name": "stdout",
     "output_type": "stream",
     "text": [
      "Juft sonlar: [2, 4, 6, 8, 10]\n"
     ]
    }
   ],
   "source": [
    "# Juft sonlarni filtrlash : Butun sonlar roʻyxati berilgan boʻlsa, faqat juft raqamlardan iborat yangi roʻyxat yarating.\n",
    "def filter_even_numbers(lst):\n",
    "    even_numbers = [num for num in lst if num % 2 == 0]\n",
    "    return even_numbers\n",
    "# Misol uchun foydalanish \n",
    "numbers = [1, 2, 3, 4, 5, 6, 7, 8, 9, 10]\n",
    "\n",
    "print(\"Juft sonlar:\", filter_even_numbers(numbers))\n"
   ]
  },
  {
   "cell_type": "markdown",
   "metadata": {},
   "source": [
    "------------------\n",
    "23. **Filter Odd Numbers**: Given a list of integers, create a new list that contains only the odd numbers.\n",
    "------------------"
   ]
  },
  {
   "cell_type": "code",
   "execution_count": 120,
   "metadata": {},
   "outputs": [
    {
     "name": "stdout",
     "output_type": "stream",
     "text": [
      "Toq sonlar: [1, 3, 5, 7, 9]\n"
     ]
    }
   ],
   "source": [
    "# Toq sonlarni filtrlash : Butun sonlar roʻyxatini hisobga olib, faqat toq raqamlarni oʻz ichiga olgan yangi roʻyxat yarating.\n",
    "def filter_odd_numbers(lst):\n",
    "    odd_numbers = [num for num in lst if num % 2 != 0]\n",
    "    return odd_numbers\n",
    "# Misol uchun foydalanish \n",
    "numbers = [1, 2, 3, 4, 5, 6, 7, 8, 9, 10]\n",
    "\n",
    "print(\"Toq sonlar:\", filter_odd_numbers(numbers))\n"
   ]
  },
  {
   "cell_type": "markdown",
   "metadata": {},
   "source": [
    "----------------------------\n",
    "24. **List Length**: Determine the number of elements in the list.\n",
    "---------------------------"
   ]
  },
  {
   "cell_type": "code",
   "execution_count": 121,
   "metadata": {},
   "outputs": [
    {
     "name": "stdout",
     "output_type": "stream",
     "text": [
      "Uzunligi: 10\n"
     ]
    }
   ],
   "source": [
    "# Ro'yxat uzunligi : Ro'yxatdagi elementlar sonini aniqlang.\n",
    "lst = [1, 2, 3, 4, 5, 6, 7, 8, 9, 10]\n",
    "list_length = len(lst)\n",
    "\n",
    "# print\n",
    "print(\"Uzunligi:\", list_length)"
   ]
  },
  {
   "cell_type": "markdown",
   "metadata": {},
   "source": [
    "---------------------------\n",
    "25. **Create a Copy**: Create a new list that is a copy of the original list.\n",
    "--------------------"
   ]
  },
  {
   "cell_type": "code",
   "execution_count": 122,
   "metadata": {},
   "outputs": [
    {
     "name": "stdout",
     "output_type": "stream",
     "text": [
      "Nusxa ro'yxat: [1, 2, 3, 4, 5]\n"
     ]
    }
   ],
   "source": [
    "# Nusxa yaratish : Asl roʻyxatning nusxasi boʻlgan yangi roʻyxat yarating.\n",
    "import copy\n",
    "\n",
    "original_list = [1, 2, 3, 4, 5]\n",
    "copy_list = copy.copy(original_list)\n",
    "print(\"Nusxa ro'yxat:\", copy_list)\n"
   ]
  },
  {
   "cell_type": "markdown",
   "metadata": {},
   "source": [
    "--------------------------------\n",
    "26. **Get Middle Element**: Given a list, find the middle element. If the list has an even number of elements, return the two middle elements.\n",
    "------------------------------"
   ]
  },
  {
   "cell_type": "code",
   "execution_count": 123,
   "metadata": {},
   "outputs": [
    {
     "name": "stdout",
     "output_type": "stream",
     "text": [
      "Middle element(s): [5, 6]\n"
     ]
    }
   ],
   "source": [
    "# O'rta elementni oling : ro'yxat berilgan, o'rta elementni toping. Agar ro'yxatda juft sonli elementlar bo'lsa, ikkita o'rta elementni qaytaring.\n",
    "def get_middle_element(l):\n",
    "    sorted_l = sorted(l)\n",
    "    len_l = len(sorted_l)\n",
    "    if len_l % 2 == 0:\n",
    "        return sorted_l[(len_l//2) - 1 : (len_l//2) + 1]\n",
    "    else:\n",
    "        return [sorted_l[len_l//2]]\n",
    "\n",
    "# tekshirish\n",
    "\n",
    "lst = [1, 2, 3, 4, 5, 6, 7, 8, 9, 10]\n",
    "middle_element = get_middle_element(lst)\n",
    "\n",
    "# Print\n",
    "print(\"Middle element(s):\", middle_element)"
   ]
  },
  {
   "cell_type": "markdown",
   "metadata": {},
   "source": [
    "------------------------\n",
    "27. **Find Maximum of Sublist**: Given a list, find the maximum element of a specified sublist.\n",
    "-------------------------"
   ]
  },
  {
   "cell_type": "code",
   "execution_count": 124,
   "metadata": {},
   "outputs": [
    {
     "name": "stdout",
     "output_type": "stream",
     "text": [
      "Maximum in sublist: 9\n"
     ]
    }
   ],
   "source": [
    "# Qo'shimcha ro'yxatning maksimal qismini toping : Ro'yxat berilgan bo'lsa, belgilangan pastki ro'yxatning maksimal elementini toping.\n",
    "def find_maximum_of_sublist(lst, start, end):\n",
    "    # sublistni aniqlash\n",
    "    sublist = lst[start : end + 1]\n",
    "\n",
    "    # Sublistning max elementini aniqlaymiz\n",
    "    max_in_sublist = max(sublist)\n",
    "    return max_in_sublist\n",
    "\n",
    "# Testing\n",
    "\n",
    "lst = [0, 1, 2, 3, 4, 5, 6, 7, 8, 9, 10]\n",
    "start_index = 5\n",
    "stop_index = 9\n",
    "max_in_sublist = find_maximum_of_sublist(lst, start_index, stop_index)\n",
    "\n",
    "# Print\n",
    "print(\"Maximum in sublist:\", max_in_sublist)"
   ]
  },
  {
   "cell_type": "markdown",
   "metadata": {},
   "source": [
    "--------------------\n",
    "28. **Find Minimum of Sublist**: Given a list, find the minimum element of a specified sublist.\n",
    "---------------------"
   ]
  },
  {
   "cell_type": "code",
   "execution_count": 125,
   "metadata": {},
   "outputs": [
    {
     "name": "stdout",
     "output_type": "stream",
     "text": [
      "Minimum in sublist: 5\n"
     ]
    }
   ],
   "source": [
    "# Kichik roʻyxatni toping : Roʻyxat berilgan boʻlsa, belgilangan pastki roʻyxatning minimal elementini toping.\n",
    "def find_minimum_of_sublist(lst, start, end):\n",
    "    # sublistni aniqlash\n",
    "    sublist = lst[start : end + 1]\n",
    "\n",
    "    # Sublistning max elementini aniqlaymiz\n",
    "    min_in_sublist = min(sublist)\n",
    "    return min_in_sublist\n",
    "\n",
    "# Testing\n",
    "\n",
    "lst = [0, 1, 2, 3, 4, 5, 6, 7, 8, 9, 10]\n",
    "start_index = 5\n",
    "stop_index = 9\n",
    "min_in_sublist = find_minimum_of_sublist(lst, start_index, stop_index)\n",
    "\n",
    "# Print\n",
    "print(\"Minimum in sublist:\", min_in_sublist)"
   ]
  },
  {
   "cell_type": "markdown",
   "metadata": {},
   "source": [
    "----------------\n",
    "29. **Remove Element by Index**: Given a list and an index, remove the element at that index if it exists.\n",
    "------------------"
   ]
  },
  {
   "cell_type": "code",
   "execution_count": 126,
   "metadata": {},
   "outputs": [
    {
     "name": "stdout",
     "output_type": "stream",
     "text": [
      "[0, 1, 2, 3, 4, 5, 6, 8, 9, 10]\n"
     ]
    }
   ],
   "source": [
    "# Indeks bo'yicha elementni olib tashlash : Ro'yxat va indeksni hisobga olgan holda, agar mavjud bo'lsa, ushbu indeksdagi elementni olib tashlang.\n",
    "def remove_element_by_index(lst, index = int):\n",
    "    if index < 0 or index >= len(lst):\n",
    "        raise IndexError(\"Indeks ro'yxat chegarasidan tashqarida\")\n",
    "    \n",
    "    return lst[: index] + lst[index + 1:]\n",
    "\n",
    "lst = [0, 1, 2, 3, 4, 5, 6, 7, 8, 9, 10]\n",
    "index = 7\n",
    "\n",
    "# Testing\n",
    "last_lst = remove_element_by_index(lst, index)\n",
    "\n",
    "print(last_lst)"
   ]
  },
  {
   "cell_type": "markdown",
   "metadata": {},
   "source": [
    "------------------------\n",
    "30. **Check if List is Sorted**: Determine if the list is sorted in ascending order and return a boolean.\n",
    "---------------------------"
   ]
  },
  {
   "cell_type": "code",
   "execution_count": 127,
   "metadata": {},
   "outputs": [
    {
     "name": "stdout",
     "output_type": "stream",
     "text": [
      "Ro'yxat tartiblangan\n"
     ]
    }
   ],
   "source": [
    "# Ro'yxat o'sish tartibida tartiblanganligini aniqlang va mantiqiy qiymatni qaytaring.\n",
    "def check_if_list_is_sorted(lst):\n",
    "    return \"Ro'yxat tartiblangan\" if lst == sorted(lst) else \"Ro'yxat tartiblanmagan\"\n",
    "\n",
    "# Testing\n",
    "lst = [0, 1, 2, 3, 4, 5, 6, 7, 8, 9, 10]\n",
    "\n",
    "print(check_if_list_is_sorted(lst))"
   ]
  },
  {
   "cell_type": "markdown",
   "metadata": {},
   "source": [
    "--------------------------------\n",
    "31. **Repeat Elements**: Given a list and a number, create a new list where each element is repeated that number of times.\n",
    "-------------------------------"
   ]
  },
  {
   "cell_type": "code",
   "execution_count": 128,
   "metadata": {},
   "outputs": [
    {
     "name": "stdout",
     "output_type": "stream",
     "text": [
      "Yangi ro'yxat: [1, 1, 1, 2, 2, 2, 3, 3, 3]\n"
     ]
    }
   ],
   "source": [
    "def repeat_elements(lst, num):\n",
    "    repeated_list = [element for element in lst for _ in range(num)]\n",
    "    return repeated_list\n",
    "\n",
    "# Misol uchun foydalanish\n",
    "lst = [1, 2, 3]\n",
    "repeat_count = 3\n",
    "new_list = repeat_elements(lst, repeat_count)\n",
    "print(\"Yangi ro'yxat:\", new_list)"
   ]
  },
  {
   "cell_type": "markdown",
   "metadata": {},
   "source": [
    "------------------------------\n",
    "32. **Merge and Sort**: Given two lists, create a new sorted list that merges both lists.\n",
    "--------------------"
   ]
  },
  {
   "cell_type": "code",
   "execution_count": 129,
   "metadata": {},
   "outputs": [
    {
     "name": "stdout",
     "output_type": "stream",
     "text": [
      "Birlashgan ro'yxat: [1, 2, 3, 7, 8, 9]\n"
     ]
    }
   ],
   "source": [
    "# Ikki roʻyxatni hisobga olgan holda, ikkala roʻyxatni birlashtirgan yangi tartiblangan roʻyxat yarating.\n",
    "def merge_and_sort(list_1, list_2):\n",
    "    return sorted(list_1 + list_2)\n",
    "\n",
    "list_1 = [1, 2, 3]\n",
    "list_2 = [9, 8, 7]\n",
    "\n",
    "# Testing\n",
    "print(\"Birlashgan ro'yxat:\", merge_and_sort(list_1, list_2))"
   ]
  },
  {
   "cell_type": "markdown",
   "metadata": {},
   "source": [
    "---------------------\n",
    "33. **Find All Indices**: Given a list and an element, find all the indices of that element in the list.\n",
    "------------------------"
   ]
  },
  {
   "cell_type": "code",
   "execution_count": 140,
   "metadata": {},
   "outputs": [
    {
     "name": "stdout",
     "output_type": "stream",
     "text": [
      "Indekslar: [1, 3, 5]\n"
     ]
    }
   ],
   "source": [
    "def find_all_indices(lst, element):\n",
    "    indices = [i for i, x in enumerate(lst) if x == element]\n",
    "    return indices\n",
    "\n",
    "# Misol uchun foydalanish\n",
    "lst = [1, 2, 3, 2, 4, 2, 5]\n",
    "element = 2\n",
    "indices = find_all_indices(lst, element)\n",
    "print(\"Indekslar:\", indices)\n"
   ]
  },
  {
   "cell_type": "markdown",
   "metadata": {},
   "source": [
    "------------------------\n",
    "\n",
    "34. **Rotate List**: Given a list, create a new list that is a rotated version of the original list (shift elements to the right).\n",
    "-------------------"
   ]
  },
  {
   "cell_type": "code",
   "execution_count": 132,
   "metadata": {},
   "outputs": [
    {
     "name": "stdout",
     "output_type": "stream",
     "text": [
      "Aylantirilgan ro'yxat: [4, 5, 1, 2, 3]\n"
     ]
    }
   ],
   "source": [
    "def rotate_list(lst, k):\n",
    "    k = k % len(lst)\n",
    "    return lst[-k:] + lst[:-k]\n",
    "\n",
    "# Testing\n",
    "lst = [1, 2, 3, 4, 5]\n",
    "rotated_lst = rotate_list(lst, 2)\n",
    "print(\"Aylantirilgan ro'yxat:\", rotated_lst)\n"
   ]
  },
  {
   "cell_type": "markdown",
   "metadata": {},
   "source": [
    "------------------------------\n",
    "35. **Create Range List**: Create a list of numbers in a specified range (e.g., from 1 to 10).\n",
    "--------------------------"
   ]
  },
  {
   "cell_type": "code",
   "execution_count": 133,
   "metadata": {},
   "outputs": [
    {
     "name": "stdout",
     "output_type": "stream",
     "text": [
      "Range ro'yxati: [1, 2, 3, 4, 5, 6, 7, 8, 9, 10]\n"
     ]
    }
   ],
   "source": [
    "def create_range_list(start, end):\n",
    "    return list(range(start, end + 1))\n",
    "\n",
    "# Testing\n",
    "range_lst = create_range_list(1, 10)\n",
    "print(\"Range ro'yxati:\", range_lst)\n"
   ]
  },
  {
   "cell_type": "markdown",
   "metadata": {},
   "source": [
    "-------------------\n",
    "36. **Sum of Positive Numbers**: Given a list of numbers, calculate the sum of all positive numbers.\n",
    "-------------------\n"
   ]
  },
  {
   "cell_type": "code",
   "execution_count": 134,
   "metadata": {},
   "outputs": [
    {
     "name": "stdout",
     "output_type": "stream",
     "text": [
      "Musbat sonlar yig'indisi: 9\n"
     ]
    }
   ],
   "source": [
    "def sum_positive_numbers(lst):\n",
    "    return sum(x for x in lst if x > 0)\n",
    "\n",
    "# Testing\n",
    "lst = [1, -2, 3, -4, 5]\n",
    "positive_sum = sum_positive_numbers(lst)\n",
    "print(\"Musbat sonlar yig'indisi:\", positive_sum)\n"
   ]
  },
  {
   "cell_type": "markdown",
   "metadata": {},
   "source": [
    "-----------------------------\n",
    "37. **Sum of Negative Numbers**: Given a list of numbers, calculate the sum of all negative numbers.\n",
    "------------------------"
   ]
  },
  {
   "cell_type": "code",
   "execution_count": 135,
   "metadata": {},
   "outputs": [
    {
     "name": "stdout",
     "output_type": "stream",
     "text": [
      "Manfiy sonlar yig'indisi: -6\n"
     ]
    }
   ],
   "source": [
    "def sum_negative_numbers(lst):\n",
    "    return sum(x for x in lst if x < 0)\n",
    "\n",
    "# Testing\n",
    "lst = [1, -2, 3, -4, 5]\n",
    "negative_sum = sum_negative_numbers(lst)\n",
    "print(\"Manfiy sonlar yig'indisi:\", negative_sum)\n"
   ]
  },
  {
   "cell_type": "markdown",
   "metadata": {},
   "source": [
    "-----------------------\n",
    "38. **Check Palindrome**: Given a list, check if the list is a palindrome (reads the same forwards and backwards).\n",
    "--------------------"
   ]
  },
  {
   "cell_type": "code",
   "execution_count": 136,
   "metadata": {},
   "outputs": [
    {
     "name": "stdout",
     "output_type": "stream",
     "text": [
      "Ro'yxat palindrommi: True\n"
     ]
    }
   ],
   "source": [
    "def check_palindrome(lst):\n",
    "    return lst == lst[::-1]\n",
    "\n",
    "# Testing\n",
    "lst = [1, 2, 3, 2, 1]\n",
    "is_palindrome = check_palindrome(lst)\n",
    "print(\"Ro'yxat palindrommi:\", is_palindrome)\n"
   ]
  },
  {
   "cell_type": "code",
   "execution_count": 138,
   "metadata": {},
   "outputs": [
    {
     "name": "stdout",
     "output_type": "stream",
     "text": [
      "Ichki ro'yxat: [[1, 2], [3, 4], [5, 6]]\n"
     ]
    }
   ],
   "source": [
    "def create_nested_list(lst, n):\n",
    "    return [lst[i:i + n] for i in range(0, len(lst), n)]\n",
    "\n",
    "# Testing\n",
    "lst = [1, 2, 3, 4, 5, 6]\n",
    "nested_lst = create_nested_list(lst, 2)\n",
    "print(\"Ichki ro'yxat:\", nested_lst)\n"
   ]
  },
  {
   "cell_type": "code",
   "execution_count": 137,
   "metadata": {},
   "outputs": [
    {
     "name": "stdout",
     "output_type": "stream",
     "text": [
      "Noyob elementlar: [1, 2, 3, 4, 5]\n"
     ]
    }
   ],
   "source": [
    "def get_unique_elements_in_order(lst):\n",
    "    seen = set()\n",
    "    unique_lst = []\n",
    "    for element in lst:\n",
    "        if element not in seen:\n",
    "            unique_lst.append(element)\n",
    "            seen.add(element)\n",
    "    return unique_lst\n",
    "\n",
    "# Testing\n",
    "lst = [1, 2, 2, 3, 4, 4, 5]\n",
    "unique_lst = get_unique_elements_in_order(lst)\n",
    "print(\"Noyob elementlar:\", unique_lst)\n"
   ]
  }
 ],
 "metadata": {
  "kernelspec": {
   "display_name": "Python 3",
   "language": "python",
   "name": "python3"
  },
  "language_info": {
   "codemirror_mode": {
    "name": "ipython",
    "version": 3
   },
   "file_extension": ".py",
   "mimetype": "text/x-python",
   "name": "python",
   "nbconvert_exporter": "python",
   "pygments_lexer": "ipython3",
   "version": "3.12.8"
  }
 },
 "nbformat": 4,
 "nbformat_minor": 2
}
