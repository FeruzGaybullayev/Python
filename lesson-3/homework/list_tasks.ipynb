{
 "cells": [
  {
   "cell_type": "markdown",
   "metadata": {},
   "source": [
    "1. Count Occurrences: Given a list and an element, find how many times the element appears in the list."
   ]
  },
  {
   "cell_type": "code",
   "execution_count": 1,
   "metadata": {},
   "outputs": [
    {
     "name": "stdout",
     "output_type": "stream",
     "text": [
      "1\n"
     ]
    }
   ],
   "source": [
    "def count_occurences(my_list, element):\n",
    "    return my_list.count(element)\n",
    "\n",
    "my_list = [0,1,2,3,4,5,6,7,8,9]\n",
    "element = 2\n",
    "count = count_occurences(my_list, element)\n",
    "print(count)"
   ]
  },
  {
   "cell_type": "markdown",
   "metadata": {},
   "source": [
    "2. Sum of Elements: Given a list of numbers, calculate the total of all the elements."
   ]
  },
  {
   "cell_type": "code",
   "execution_count": 2,
   "metadata": {},
   "outputs": [
    {
     "name": "stdout",
     "output_type": "stream",
     "text": [
      "15\n"
     ]
    }
   ],
   "source": [
    "def sum_of_elements(numbers):\n",
    "    total = sum(numbers)\n",
    "    return total\n",
    "my_list = [1,2,3,4,5]\n",
    "total_sum = sum_of_elements(my_list)\n",
    "print(total_sum)\n"
   ]
  },
  {
   "cell_type": "markdown",
   "metadata": {},
   "source": [
    "3. Max Element: From a given list, determine the largest element.\n"
   ]
  },
  {
   "cell_type": "code",
   "execution_count": 3,
   "metadata": {},
   "outputs": [
    {
     "name": "stdout",
     "output_type": "stream",
     "text": [
      "674844487\n"
     ]
    }
   ],
   "source": [
    "my_list = [1,2,3,4,5,674844487,77854,4484545,90000000]\n",
    "\n",
    "def find_max_element(numbers):\n",
    "    if not numbers:\n",
    "        return None\n",
    "    max_num = numbers[0]\n",
    "    for num in numbers:\n",
    "        if num > max_num:\n",
    "            max_num = num\n",
    "    return max_num\n",
    "\n",
    "\n",
    "print(find_max_element(my_list))"
   ]
  },
  {
   "cell_type": "markdown",
   "metadata": {},
   "source": [
    "4. Min Element: From a given list, determine the smallest element.\n"
   ]
  },
  {
   "cell_type": "code",
   "execution_count": 4,
   "metadata": {},
   "outputs": [
    {
     "name": "stdout",
     "output_type": "stream",
     "text": [
      "1\n"
     ]
    }
   ],
   "source": [
    "my_list = [1,2,3,4,5,674844487,77854,4484545,90000000]\n",
    "\n",
    "def find_min_element(numbers):\n",
    "    if not numbers:\n",
    "        return None\n",
    "    min_num = numbers[0]\n",
    "    for num in numbers:\n",
    "        if num < min_num:\n",
    "            min_num = num\n",
    "    return min_num\n",
    "\n",
    "\n",
    "print(find_min_element(my_list))"
   ]
  },
  {
   "cell_type": "markdown",
   "metadata": {},
   "source": [
    "5. Check Element: Given a list and an element, check if the element is present in the list.\n"
   ]
  },
  {
   "cell_type": "code",
   "execution_count": 5,
   "metadata": {},
   "outputs": [
    {
     "name": "stdout",
     "output_type": "stream",
     "text": [
      "Element mavjud\n"
     ]
    }
   ],
   "source": [
    "def check_element(my_list, element):\n",
    "    return element in my_list\n",
    "\n",
    "my_list = [1,2,3,4,5,6,7,8,9]\n",
    "element_to_check = 2\n",
    "if check_element(my_list, element_to_check):\n",
    "    print(\"Element mavjud\")\n",
    "else:\n",
    "    print(\"Element mavjud emas\")"
   ]
  },
  {
   "cell_type": "markdown",
   "metadata": {},
   "source": [
    "6. First Element: Access the first element of a list, considering what to return if the list is empty."
   ]
  },
  {
   "cell_type": "code",
   "execution_count": 6,
   "metadata": {},
   "outputs": [
    {
     "name": "stdout",
     "output_type": "stream",
     "text": [
      "10\n",
      "List bo'sh.\n"
     ]
    }
   ],
   "source": [
    "def get_first_element(my_list):\n",
    "    if my_list:\n",
    "        return my_list[0]\n",
    "    else:\n",
    "        return \"List bo'sh.\"\n",
    "\n",
    "my_list = [10, 20, 30]\n",
    "first_element = get_first_element(my_list)\n",
    "print(first_element)\n",
    "\n",
    "empty_list = []\n",
    "first_element_empty = get_first_element(empty_list)\n",
    "print(first_element_empty)"
   ]
  },
  {
   "cell_type": "markdown",
   "metadata": {},
   "source": [
    "7. Last Element: Access the last element of a list, considering what to return if the list is empty.\n"
   ]
  },
  {
   "cell_type": "code",
   "execution_count": 7,
   "metadata": {},
   "outputs": [
    {
     "name": "stdout",
     "output_type": "stream",
     "text": [
      "30\n"
     ]
    }
   ],
   "source": [
    "def get_last_element(my_list):\n",
    "    if my_list:\n",
    "        return my_list[-1]\n",
    "    else:\n",
    "        return \"List bo'sh.\"\n",
    "\n",
    "my_list = [10, 20, 30]\n",
    "last_element = get_last_element(my_list)\n",
    "print(last_element)"
   ]
  },
  {
   "cell_type": "markdown",
   "metadata": {},
   "source": [
    "8. Slice List: Create a new list that contains only the first three elements of the original list.\n"
   ]
  },
  {
   "cell_type": "code",
   "execution_count": 8,
   "metadata": {},
   "outputs": [
    {
     "name": "stdout",
     "output_type": "stream",
     "text": [
      "[1, 2, 3]\n"
     ]
    }
   ],
   "source": [
    "def get_new_list(my_list):\n",
    "    if my_list:\n",
    "        return my_list[:3]\n",
    "    else:\n",
    "        return \"List bo'sh\"\n",
    "\n",
    "my_list = [1,2,3,4,5,6,7,8,9]\n",
    "new_list = get_new_list(my_list)\n",
    "print(new_list)"
   ]
  },
  {
   "cell_type": "markdown",
   "metadata": {},
   "source": [
    "9. Reverse List: Create a new list that contains the elements of the original list in reverse order.\n"
   ]
  },
  {
   "cell_type": "code",
   "execution_count": 9,
   "metadata": {},
   "outputs": [
    {
     "name": "stdout",
     "output_type": "stream",
     "text": [
      "[9, 8, 7, 6, 5, 4, 3, 2, 1]\n"
     ]
    }
   ],
   "source": [
    "def get_reverse_list(my_list):\n",
    "    return my_list[::-1]\n",
    "\n",
    "my_list = [1,2,3,4,5,6,7,8,9]\n",
    "reversed_list = get_reverse_list(my_list)\n",
    "print(reversed_list)"
   ]
  },
  {
   "cell_type": "markdown",
   "metadata": {},
   "source": [
    "10. Sort List: Create a new list that contains the elements of the original list in sorted order.\n"
   ]
  },
  {
   "cell_type": "code",
   "execution_count": 10,
   "metadata": {},
   "outputs": [
    {
     "name": "stdout",
     "output_type": "stream",
     "text": [
      "[1, 2, 2, 3, 3, 4, 5, 6, 6]\n"
     ]
    }
   ],
   "source": [
    "def get_sorted_list(orginal_list):\n",
    "    return sorted(orginal_list)\n",
    "\n",
    "orginal_list = [1,2,2,3,3,4,5,6,6]\n",
    "sorted_list = get_sorted_list(orginal_list)\n",
    "print(sorted_list)"
   ]
  },
  {
   "cell_type": "markdown",
   "metadata": {},
   "source": [
    "11. Remove Duplicates: Given a list, create a new list that contains only unique elements from the original list."
   ]
  },
  {
   "cell_type": "code",
   "execution_count": 11,
   "metadata": {},
   "outputs": [
    {
     "name": "stdout",
     "output_type": "stream",
     "text": [
      "[0, 1, 2, 4, 5, 7, 8, 9]\n"
     ]
    }
   ],
   "source": [
    "def remove_dublicates(orginal_list):\n",
    "    return list(set(orginal_list))\n",
    "\n",
    "orginal_list = [1,2,2,8,8,9,8,7,4,5,2,1,0]\n",
    "print(remove_dublicates(orginal_list))"
   ]
  },
  {
   "cell_type": "markdown",
   "metadata": {},
   "source": [
    "12. Insert Element: Given a list and an element, insert the element at a specified index."
   ]
  },
  {
   "cell_type": "code",
   "execution_count": 12,
   "metadata": {},
   "outputs": [
    {
     "name": "stdout",
     "output_type": "stream",
     "text": [
      "[0, 1, 2, 4, 5, 7, 8, 9]\n"
     ]
    }
   ],
   "source": [
    "def insert_element(lst,index,element):\n",
    "    lst.insert(index,element)\n",
    "    return lst\n",
    "\n",
    "my_list = [1,2,3,4,5,6,7,8,9]\n",
    "index_to_insert = 2\n",
    "element_to_insert = 99\n",
    "\n",
    "result = insert_element(my_list, index_to_insert, element_to_insert)\n",
    "print(remove_dublicates(orginal_list))"
   ]
  },
  {
   "cell_type": "markdown",
   "metadata": {},
   "source": [
    "13. Index of Element: Given a list and an element, find the index of the first occurrence of the element.\n"
   ]
  },
  {
   "cell_type": "code",
   "execution_count": 13,
   "metadata": {},
   "outputs": [
    {
     "name": "stdout",
     "output_type": "stream",
     "text": [
      "List bo'sh\n"
     ]
    }
   ],
   "source": [
    "def find_index(my_list,element):\n",
    "    try:\n",
    "        return my_list.index(element)\n",
    "    except ValueError:\n",
    "        return \"List bo'sh\"\n",
    "    \n",
    "my_list = [10,20,30,40,50]\n",
    "element = 200\n",
    "index = find_index(my_list, element)\n",
    "print(index)"
   ]
  },
  {
   "cell_type": "markdown",
   "metadata": {},
   "source": [
    "14. Check for Empty List: Determine if a list is empty and return a boolean.\n"
   ]
  },
  {
   "cell_type": "code",
   "execution_count": 14,
   "metadata": {},
   "outputs": [
    {
     "name": "stdout",
     "output_type": "stream",
     "text": [
      "List not empty\n"
     ]
    }
   ],
   "source": [
    "def is_empty_list(my_list,element):\n",
    "    if len(my_list) == 0:\n",
    "        return \"Empty list\"\n",
    "    else:\n",
    "        return \"List not empty\"\n",
    "\n",
    "\n",
    "natija = is_empty_list(my_list,element)\n",
    "print(natija)"
   ]
  },
  {
   "cell_type": "markdown",
   "metadata": {},
   "source": [
    "15. Count Even Numbers: Given a list of integers, count how many of them are even.\n"
   ]
  },
  {
   "cell_type": "code",
   "execution_count": 15,
   "metadata": {},
   "outputs": [
    {
     "name": "stdout",
     "output_type": "stream",
     "text": [
      "5\n"
     ]
    }
   ],
   "source": [
    "def count_even_numbers(numbers):\n",
    "    even_count = 0\n",
    "    for number in numbers:\n",
    "        if number % 2 == 0 :\n",
    "            even_count += 1 \n",
    "    return even_count\n",
    "    \n",
    "my_list = [0,1,2,3,4,5,6,7,8,9]\n",
    "print(count_even_numbers(my_list))"
   ]
  },
  {
   "cell_type": "markdown",
   "metadata": {},
   "source": [
    "16. Count Odd Numbers: Given a list of integers, count how many of them are odd."
   ]
  },
  {
   "cell_type": "code",
   "execution_count": 16,
   "metadata": {},
   "outputs": [
    {
     "name": "stdout",
     "output_type": "stream",
     "text": [
      "5\n"
     ]
    }
   ],
   "source": [
    "def count_odd_numbers(numbers):\n",
    "    odd_count = 0\n",
    "    for number in numbers:\n",
    "        if number % 2 != 0:\n",
    "            odd_count += 1 \n",
    "    return odd_count\n",
    "\n",
    "my_list = [1,2,3,4,5,6,7,8,9]\n",
    "print(count_odd_numbers(my_list))"
   ]
  },
  {
   "cell_type": "markdown",
   "metadata": {},
   "source": [
    "17. Concatenate Lists: Given two lists, create a new list that combines both lists."
   ]
  },
  {
   "cell_type": "code",
   "execution_count": 17,
   "metadata": {},
   "outputs": [
    {
     "name": "stdout",
     "output_type": "stream",
     "text": [
      "[1, 2, 3, 4, 3, 4, 5, 6, 7, 8, 9]\n"
     ]
    }
   ],
   "source": [
    "def combine_lists(list1,list2):\n",
    "    return list1 + list2\n",
    "\n",
    "list_1 = [1,2,3,4]\n",
    "list_2 = [3,4,5,6,7,8,9]\n",
    "\n",
    "print(combine_lists(list_1, list_2))"
   ]
  },
  {
   "cell_type": "markdown",
   "metadata": {},
   "source": [
    "18.  Find Sublist: Given a list and a sublist, check if the sublist exists within the list."
   ]
  },
  {
   "cell_type": "code",
   "execution_count": 18,
   "metadata": {},
   "outputs": [
    {
     "name": "stdout",
     "output_type": "stream",
     "text": [
      "True\n"
     ]
    }
   ],
   "source": [
    "def is_sublist(main_list, sublist):\n",
    "    sublist_length = len(sublist)\n",
    "\n",
    "    for i in range(len(main_list) - sublist_length + 1):\n",
    "        if main_list[i:i + sublist_length] == sublist:\n",
    "            return True\n",
    "    return False\n",
    "\n",
    "royxat = [1, 2, 3, 4, 5]\n",
    "sublist = [3, 4]\n",
    "\n",
    "natija = is_sublist(royxat, sublist)\n",
    "print(natija)"
   ]
  },
  {
   "cell_type": "markdown",
   "metadata": {},
   "source": [
    "19. Replace Element: Given a list, replace the first occurrence of a specified element with another element."
   ]
  },
  {
   "cell_type": "code",
   "execution_count": 23,
   "metadata": {},
   "outputs": [
    {
     "name": "stdout",
     "output_type": "stream",
     "text": [
      "[1, 3, 2, 3, 4, 5]\n"
     ]
    }
   ],
   "source": [
    "def replace_element(List, old_element, new_element):\n",
    "    try:\n",
    "        index = List.index(old_element)\n",
    "        List[index] = new_element\n",
    "    except ValueError:\n",
    "        pass \n",
    "    return List\n",
    "\n",
    "my_list =[1,1.2,2,3,4,5]\n",
    "result =replace_element(my_list,1.2,3)\n",
    "print(result)"
   ]
  },
  {
   "cell_type": "markdown",
   "metadata": {},
   "source": [
    "20. Find Second Largest: From a given list, find the second largest element."
   ]
  },
  {
   "cell_type": "code",
   "execution_count": 2,
   "metadata": {},
   "outputs": [
    {
     "name": "stdout",
     "output_type": "stream",
     "text": [
      "5\n"
     ]
    }
   ],
   "source": [
    "def second_largest(numbers):\n",
    "    unique_numbers = list(set(numbers))\n",
    "    unique_numbers.sort(reverse = True)\n",
    "    return unique_numbers[1] if len(unique_numbers) > 1 else None\n",
    "\n",
    "numbers = [3, 5, 1, 5, 7, 2]\n",
    "result = second_largest(numbers)\n",
    "print(result) "
   ]
  }
 ],
 "metadata": {
  "kernelspec": {
   "display_name": "Python 3",
   "language": "python",
   "name": "python3"
  },
  "language_info": {
   "codemirror_mode": {
    "name": "ipython",
    "version": 3
   },
   "file_extension": ".py",
   "mimetype": "text/x-python",
   "name": "python",
   "nbconvert_exporter": "python",
   "pygments_lexer": "ipython3",
   "version": "3.12.8"
  }
 },
 "nbformat": 4,
 "nbformat_minor": 2
}
