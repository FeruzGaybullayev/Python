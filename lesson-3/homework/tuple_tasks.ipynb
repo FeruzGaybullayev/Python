{
 "cells": [
  {
   "cell_type": "markdown",
   "metadata": {},
   "source": [
    "1. Count Occurrences: Given a tuple and an element, find how many times the element appears in the tuple."
   ]
  },
  {
   "cell_type": "code",
   "execution_count": 6,
   "metadata": {},
   "outputs": [
    {
     "name": "stdout",
     "output_type": "stream",
     "text": [
      "3\n"
     ]
    }
   ],
   "source": [
    "def count_occurences(tup, element):\n",
    "    return tup.count(element)\n",
    "\n",
    "my_tuple = (1,2,3,4,5,6,7,1,2,3,7,6,5,4,3,2,1)\n",
    "element_to_count = 1\n",
    "\n",
    "occurances = count_occurences(my_tuple, element_to_count)\n",
    "print(occurances)"
   ]
  },
  {
   "cell_type": "markdown",
   "metadata": {},
   "source": [
    "2. Max Element: From a given tuple, determine the largest element."
   ]
  },
  {
   "cell_type": "code",
   "execution_count": 10,
   "metadata": {},
   "outputs": [
    {
     "name": "stdout",
     "output_type": "stream",
     "text": [
      "18\n"
     ]
    }
   ],
   "source": [
    "def max_element(tup):\n",
    "    return max(tup)\n",
    "\n",
    "my_tuple = (1,2,3,4,5,6,11,18)\n",
    "largest_element = max_element(my_tuple)\n",
    "print(largest_element)\n"
   ]
  },
  {
   "cell_type": "markdown",
   "metadata": {},
   "source": [
    "3. Min Element: From a given tuple, determine the smallest element."
   ]
  },
  {
   "cell_type": "code",
   "execution_count": 11,
   "metadata": {},
   "outputs": [
    {
     "name": "stdout",
     "output_type": "stream",
     "text": [
      "1\n"
     ]
    }
   ],
   "source": [
    "def minimum_element(tup):\n",
    "    return min(tup)\n",
    "\n",
    "my_tuple = (1,2,3,4,5,6,11,18)\n",
    "smallest_element = minimum_element(my_tuple)\n",
    "\n",
    "print(smallest_element)"
   ]
  },
  {
   "cell_type": "markdown",
   "metadata": {},
   "source": [
    "4. Check Element: Given a tuple and an element, check if the element is present in the tuple.\n"
   ]
  },
  {
   "cell_type": "code",
   "execution_count": 15,
   "metadata": {},
   "outputs": [
    {
     "name": "stdout",
     "output_type": "stream",
     "text": [
      "The item does not exist\n"
     ]
    }
   ],
   "source": [
    "def check_element(tup):\n",
    "    if element in tup:\n",
    "        return \"Item available\"\n",
    "    else:\n",
    "        return \"The item does not exist\"\n",
    "    \n",
    "my_tuple = (1,2,3,4,5,6,11,18)\n",
    "element = 7\n",
    "result = check_element(my_tuple)\n",
    "\n",
    "print(result)"
   ]
  },
  {
   "cell_type": "markdown",
   "metadata": {},
   "source": [
    "5. First Element: Access the first element of a tuple, considering what to return if the tuple is empty.\n"
   ]
  },
  {
   "cell_type": "code",
   "execution_count": 35,
   "metadata": {},
   "outputs": [
    {
     "name": "stdout",
     "output_type": "stream",
     "text": [
      "10\n",
      "None\n"
     ]
    }
   ],
   "source": [
    "def first_element(tup):\n",
    "    return tup[0] if tup else \"Bo'sh tuple\"\n",
    "     \n",
    "my_tuple =(10, 20, 30, 40, 50)\n",
    "empty_tuple = ()\n",
    "result_my_tuple = first_element(my_tuple)\n",
    "result_empty_tuple\n",
    "\n",
    "print(result_my_tuple)\n",
    "print(result_empty_tuple)\n"
   ]
  },
  {
   "cell_type": "markdown",
   "metadata": {},
   "source": [
    "6. Last Element: Access the last element of a tuple, considering what to return if the tuple is empty.\n"
   ]
  },
  {
   "cell_type": "code",
   "execution_count": 34,
   "metadata": {},
   "outputs": [
    {
     "name": "stdout",
     "output_type": "stream",
     "text": [
      "50\n",
      "None\n"
     ]
    }
   ],
   "source": [
    "def last_element(tup):\n",
    "    return tup[-1] if tup else None\n",
    "\n",
    "my_tuple =(10, 20, 30, 40, 50)\n",
    "empty_tuple = ()\n",
    "result_my_tuple = last_element(my_tuple)\n",
    "result_empty_tuple = last_element(empty_tuple)\n",
    "\n",
    "print(result)\n",
    "print(result_empty_tuple)"
   ]
  },
  {
   "cell_type": "markdown",
   "metadata": {},
   "source": [
    "7. Tuple Length: Determine the number of elements in the tuple."
   ]
  },
  {
   "cell_type": "code",
   "execution_count": 39,
   "metadata": {},
   "outputs": [
    {
     "name": "stdout",
     "output_type": "stream",
     "text": [
      "Length: 5\n"
     ]
    }
   ],
   "source": [
    "def get_tuple_length(tup):\n",
    "    return len(tup)\n",
    "\n",
    "my_tuple =(10, 20, 30, 40, 50)\n",
    "empty_tuple = ()\n",
    "\n",
    "length_my_tuple = get_tuple_length(my_tuple)\n",
    "\n",
    "print(\"Length:\", length_my_tuple)"
   ]
  },
  {
   "cell_type": "markdown",
   "metadata": {},
   "source": [
    "8. "
   ]
  },
  {
   "cell_type": "code",
   "execution_count": null,
   "metadata": {},
   "outputs": [],
   "source": []
  }
 ],
 "metadata": {
  "kernelspec": {
   "display_name": "Python 3",
   "language": "python",
   "name": "python3"
  },
  "language_info": {
   "codemirror_mode": {
    "name": "ipython",
    "version": 3
   },
   "file_extension": ".py",
   "mimetype": "text/x-python",
   "name": "python",
   "nbconvert_exporter": "python",
   "pygments_lexer": "ipython3",
   "version": "3.12.8"
  }
 },
 "nbformat": 4,
 "nbformat_minor": 2
}
