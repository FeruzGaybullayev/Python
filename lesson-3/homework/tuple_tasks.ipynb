{
 "cells": [
  {
   "cell_type": "markdown",
   "metadata": {},
   "source": [
    "1. Count Occurrences: Given a tuple and an element, find how many times the element appears in the tuple."
   ]
  },
  {
   "cell_type": "code",
   "execution_count": 6,
   "metadata": {},
   "outputs": [
    {
     "name": "stdout",
     "output_type": "stream",
     "text": [
      "3\n"
     ]
    }
   ],
   "source": [
    "def count_occurences(tup, element):\n",
    "    return tup.count(element)\n",
    "\n",
    "my_tuple = (1,2,3,4,5,6,7,1,2,3,7,6,5,4,3,2,1)\n",
    "element_to_count = 1\n",
    "\n",
    "occurances = count_occurences(my_tuple, element_to_count)\n",
    "print(occurances)"
   ]
  },
  {
   "cell_type": "markdown",
   "metadata": {},
   "source": [
    "2. Max Element: From a given tuple, determine the largest element."
   ]
  },
  {
   "cell_type": "code",
   "execution_count": 10,
   "metadata": {},
   "outputs": [
    {
     "name": "stdout",
     "output_type": "stream",
     "text": [
      "18\n"
     ]
    }
   ],
   "source": [
    "def max_element(tup):\n",
    "    return max(tup)\n",
    "\n",
    "my_tuple = (1,2,3,4,5,6,11,18)\n",
    "largest_element = max_element(my_tuple)\n",
    "print(largest_element)\n"
   ]
  },
  {
   "cell_type": "markdown",
   "metadata": {},
   "source": [
    "3. Min Element: From a given tuple, determine the smallest element."
   ]
  },
  {
   "cell_type": "code",
   "execution_count": 11,
   "metadata": {},
   "outputs": [
    {
     "name": "stdout",
     "output_type": "stream",
     "text": [
      "1\n"
     ]
    }
   ],
   "source": [
    "def minimum_element(tup):\n",
    "    return min(tup)\n",
    "\n",
    "my_tuple = (1,2,3,4,5,6,11,18)\n",
    "smallest_element = minimum_element(my_tuple)\n",
    "\n",
    "print(smallest_element)"
   ]
  },
  {
   "cell_type": "markdown",
   "metadata": {},
   "source": [
    "4. Check Element: Given a tuple and an element, check if the element is present in the tuple.\n"
   ]
  },
  {
   "cell_type": "code",
   "execution_count": 15,
   "metadata": {},
   "outputs": [
    {
     "name": "stdout",
     "output_type": "stream",
     "text": [
      "The item does not exist\n"
     ]
    }
   ],
   "source": [
    "def check_element(tup):\n",
    "    if element in tup:\n",
    "        return \"Item available\"\n",
    "    else:\n",
    "        return \"The item does not exist\"\n",
    "    \n",
    "my_tuple = (1,2,3,4,5,6,11,18)\n",
    "element = 7\n",
    "result = check_element(my_tuple)\n",
    "\n",
    "print(result)"
   ]
  },
  {
   "cell_type": "markdown",
   "metadata": {},
   "source": [
    "5. First Element: Access the first element of a tuple, considering what to return if the tuple is empty.\n"
   ]
  },
  {
   "cell_type": "code",
   "execution_count": 35,
   "metadata": {},
   "outputs": [
    {
     "name": "stdout",
     "output_type": "stream",
     "text": [
      "10\n",
      "None\n"
     ]
    }
   ],
   "source": [
    "def first_element(tup):\n",
    "    return tup[0] if tup else \"Bo'sh tuple\"\n",
    "     \n",
    "my_tuple =(10, 20, 30, 40, 50)\n",
    "empty_tuple = ()\n",
    "result_my_tuple = first_element(my_tuple)\n",
    "result_empty_tuple\n",
    "\n",
    "print(result_my_tuple)\n",
    "print(result_empty_tuple)\n"
   ]
  },
  {
   "cell_type": "markdown",
   "metadata": {},
   "source": [
    "6. Last Element: Access the last element of a tuple, considering what to return if the tuple is empty.\n"
   ]
  },
  {
   "cell_type": "code",
   "execution_count": 34,
   "metadata": {},
   "outputs": [
    {
     "name": "stdout",
     "output_type": "stream",
     "text": [
      "50\n",
      "None\n"
     ]
    }
   ],
   "source": [
    "def last_element(tup):\n",
    "    return tup[-1] if tup else None\n",
    "\n",
    "my_tuple =(10, 20, 30, 40, 50)\n",
    "empty_tuple = ()\n",
    "result_my_tuple = last_element(my_tuple)\n",
    "result_empty_tuple = last_element(empty_tuple)\n",
    "\n",
    "print(result)\n",
    "print(result_empty_tuple)"
   ]
  },
  {
   "cell_type": "markdown",
   "metadata": {},
   "source": [
    "7. Tuple Length: Determine the number of elements in the tuple."
   ]
  },
  {
   "cell_type": "code",
   "execution_count": 39,
   "metadata": {},
   "outputs": [
    {
     "name": "stdout",
     "output_type": "stream",
     "text": [
      "Length: 5\n"
     ]
    }
   ],
   "source": [
    "def get_tuple_length(tup):\n",
    "    return len(tup)\n",
    "\n",
    "my_tuple =(10, 20, 30, 40, 50)\n",
    "empty_tuple = ()\n",
    "\n",
    "length_my_tuple = get_tuple_length(my_tuple)\n",
    "\n",
    "print(\"Length:\", length_my_tuple)"
   ]
  },
  {
   "cell_type": "markdown",
   "metadata": {},
   "source": [
    "8.Slice Tuple: Create a new tuple that contains only the first three elements of the original tuple.\n"
   ]
  },
  {
   "cell_type": "code",
   "execution_count": 6,
   "metadata": {},
   "outputs": [
    {
     "name": "stdout",
     "output_type": "stream",
     "text": [
      "(10, 20, 30)\n"
     ]
    }
   ],
   "source": [
    "def slice_tuple(tup):\n",
    "    return tup[:3]\n",
    "\n",
    "my_tuple =(10, 20, 30, 40, 50)\n",
    "print(slice_tuple(my_tuple))"
   ]
  },
  {
   "cell_type": "markdown",
   "metadata": {},
   "source": [
    "9. Concatenate Tuples: Given two tuples, create a new tuple that combines both.\n"
   ]
  },
  {
   "cell_type": "code",
   "execution_count": 2,
   "metadata": {},
   "outputs": [
    {
     "name": "stdout",
     "output_type": "stream",
     "text": [
      "(1, 2, 3, 4, 5, 6)\n"
     ]
    }
   ],
   "source": [
    "def concatenate_tuples(tuple_1, tuple_2):\n",
    "    return tuple_1 + tuple_2\n",
    "\n",
    "tuple1 = (1, 2, 3)\n",
    "tuple2 = (4, 5, 6)\n",
    "\n",
    "combined_tuple = concatenate_tuples(tuple1, tuple2)\n",
    "print(combined_tuple)\n"
   ]
  },
  {
   "cell_type": "markdown",
   "metadata": {},
   "source": [
    "10. Check if Tuple is Empty: Determine if a tuple has any elements.\n"
   ]
  },
  {
   "cell_type": "code",
   "execution_count": 8,
   "metadata": {},
   "outputs": [
    {
     "name": "stdout",
     "output_type": "stream",
     "text": [
      "This tuple in not empty\n"
     ]
    }
   ],
   "source": [
    "def check_if_tuple_is_empty(tup):\n",
    "    return \"This tuple is empty\" if len(tup) == 0 else \"This tuple in not empty\"\n",
    "my_tuple =(10, 20, 30, 40, 50)\n",
    "\n",
    "print(check_if_tuple_is_empty(my_tuple))"
   ]
  },
  {
   "cell_type": "markdown",
   "metadata": {},
   "source": [
    "11. Get All Indices of Element: Given a tuple and an element, find all the indices of that element in the tuple.\n"
   ]
  },
  {
   "cell_type": "code",
   "execution_count": null,
   "metadata": {},
   "outputs": [],
   "source": [
    "def find_indices(tup, element):\n",
    "    return [i for i, x in enumerate(tup) if x == element]\n"
   ]
  },
  {
   "cell_type": "code",
   "execution_count": 10,
   "metadata": {},
   "outputs": [
    {
     "name": "stdout",
     "output_type": "stream",
     "text": [
      "[1, 3]\n"
     ]
    }
   ],
   "source": [
    "def find_indices(tup, element):\n",
    "    return [i for i, x in enumerate(tup) if x == element]\n",
    "\n",
    "my_tuple =(10, 20, 30, 20, 40, 50)\n",
    "element = 20\n",
    "\n",
    "print(find_indices(my_tuple, element))"
   ]
  },
  {
   "cell_type": "markdown",
   "metadata": {},
   "source": [
    "12. Find Second Largest: From a given tuple, find the second largest element.\n"
   ]
  },
  {
   "cell_type": "code",
   "execution_count": 17,
   "metadata": {},
   "outputs": [
    {
     "name": "stdout",
     "output_type": "stream",
     "text": [
      "32\n"
     ]
    }
   ],
   "source": [
    "def find_second_largest(tup):\n",
    "    return sorted(tup)[-2]\n",
    "\n",
    "my_tuple = (1,8,1,2,5,32,54)\n",
    "print(find_second_largest(my_tuple))"
   ]
  },
  {
   "cell_type": "markdown",
   "metadata": {},
   "source": [
    "13. Find Second Smallest: From a given tuple, find the second smallest element.\n"
   ]
  },
  {
   "cell_type": "code",
   "execution_count": 16,
   "metadata": {},
   "outputs": [
    {
     "name": "stdout",
     "output_type": "stream",
     "text": [
      "2\n"
     ]
    }
   ],
   "source": [
    "def find_second_smallest(tup):\n",
    "    return sorted(tup)[2]\n",
    "\n",
    "my_tuple = (1,8,1,2,5,32,54)\n",
    "print(find_second_smallest(my_tuple))"
   ]
  },
  {
   "cell_type": "markdown",
   "metadata": {},
   "source": [
    "14. Create a Single Element Tuple: Create a tuple that contains a single specified element."
   ]
  },
  {
   "cell_type": "code",
   "execution_count": 18,
   "metadata": {},
   "outputs": [
    {
     "name": "stdout",
     "output_type": "stream",
     "text": [
      "(2006,)\n"
     ]
    }
   ],
   "source": [
    "def create_a_single_element(element):\n",
    "    return (element,)\n",
    "\n",
    "element = 2006\n",
    "\n",
    "print(create_a_single_element(element))"
   ]
  },
  {
   "cell_type": "markdown",
   "metadata": {},
   "source": [
    "15. Convert List to Tuple: Given a list, create a tuple containing the same elements.\n"
   ]
  },
  {
   "cell_type": "code",
   "execution_count": 23,
   "metadata": {},
   "outputs": [
    {
     "name": "stdout",
     "output_type": "stream",
     "text": [
      "(18, 19, 1, 8)\n"
     ]
    }
   ],
   "source": [
    "def convert_list_to_tuple(given_list):\n",
    "    return tuple(given_list)\n",
    "\n",
    "given_list = [18, 19, 1, 8]\n",
    "print(convert_list_to_tuple(given_list))"
   ]
  },
  {
   "cell_type": "markdown",
   "metadata": {},
   "source": [
    "16. Check if Tuple is Sorted: Determine if the tuple is sorted in ascending order and return a boolean.\n"
   ]
  },
  {
   "cell_type": "code",
   "execution_count": 35,
   "metadata": {},
   "outputs": [
    {
     "name": "stdout",
     "output_type": "stream",
     "text": [
      "Tuple is sorted\n"
     ]
    }
   ],
   "source": [
    "def check_if_tuple_is_sorted(tup):\n",
    "    return \"Tuple is sorted\" if all(tup[i] <= tup[i + 1] for i in range(len(tup) - 1)) else \"Tuple is not sorted\"\n",
    "my_tuple = (1,2,3,4,5,6,7,8,9,18) \n",
    "\n",
    "print(check_if_tuple_is_sorted(my_tuple))"
   ]
  },
  {
   "cell_type": "markdown",
   "metadata": {},
   "source": [
    "17. Find Maximum of Subtuple: Given a tuple, find the maximum element of a specified subtuple.\n"
   ]
  },
  {
   "cell_type": "code",
   "execution_count": 46,
   "metadata": {},
   "outputs": [
    {
     "name": "stdout",
     "output_type": "stream",
     "text": [
      "4\n"
     ]
    }
   ],
   "source": [
    "def max_of_subtuple(tup, start, end):\n",
    "    return max(tup[start:end])\n",
    "\n",
    "my_tuple = (1, 2, 3, 4, 5)\n",
    "result = max_of_subtuple(my_tuple, 1, 4)\n",
    "print(result)"
   ]
  },
  {
   "cell_type": "markdown",
   "metadata": {},
   "source": [
    "18. Find Minimum of Subtuple: Given a tuple, find the minimum element of a specified subtuple.\n"
   ]
  },
  {
   "cell_type": "code",
   "execution_count": 53,
   "metadata": {},
   "outputs": [
    {
     "name": "stdout",
     "output_type": "stream",
     "text": [
      "3\n"
     ]
    }
   ],
   "source": [
    "def min_of_subtuple(tup, start, end):\n",
    "    return min(tup[start:end])\n",
    "\n",
    "my_tuple = (1, 2, 3, 4, 5)\n",
    "result = min_of_subtuple(my_tuple, 2, 7)\n",
    "print(result)"
   ]
  },
  {
   "cell_type": "markdown",
   "metadata": {},
   "source": [
    "19. Remove Element by Value: Given a tuple and an element, create a new tuple that removes the first occurrence of that element. "
   ]
  },
  {
   "cell_type": "code",
   "execution_count": 54,
   "metadata": {},
   "outputs": [
    {
     "name": "stdout",
     "output_type": "stream",
     "text": [
      "(1, 5, 7, 9)\n"
     ]
    }
   ],
   "source": [
    "def remove_element_by_value(tup, element):\n",
    "    tup_list = list(tup)\n",
    "    tup_list.remove(element)\n",
    "    return tuple(tup_list)\n",
    "\n",
    "my_tuple = (1, 2, 5, 7, 9)\n",
    "element = 2\n",
    "\n",
    "result = remove_element_by_value(my_tuple, element)\n",
    "\n",
    "print(result)"
   ]
  },
  {
   "cell_type": "markdown",
   "metadata": {},
   "source": [
    "20. Create Nested Tuple: Create a new tuple that contains subtuples, where each subtuple contains specified elements from the original tuple.\n"
   ]
  },
  {
   "cell_type": "markdown",
   "metadata": {},
   "source": [
    "21. Repeat Elements: Given a tuple and a number, create a new tuple where each element is repeated that number of times.\n"
   ]
  },
  {
   "cell_type": "code",
   "execution_count": null,
   "metadata": {},
   "outputs": [],
   "source": []
  },
  {
   "cell_type": "markdown",
   "metadata": {},
   "source": [
    "22. Create Range Tuple: Create a tuple of numbers in a specified range (e.g., from 1 to 10).\n"
   ]
  },
  {
   "cell_type": "code",
   "execution_count": null,
   "metadata": {},
   "outputs": [],
   "source": []
  },
  {
   "cell_type": "markdown",
   "metadata": {},
   "source": [
    "23. Reverse Tuple: Create a new tuple that contains the elements of the original tuple in reverse order.\n"
   ]
  },
  {
   "cell_type": "code",
   "execution_count": null,
   "metadata": {},
   "outputs": [],
   "source": []
  },
  {
   "cell_type": "markdown",
   "metadata": {},
   "source": [
    "24. Check Palindrome: Given a tuple, check if the tuple is a palindrome (reads the same forwards and backwards).\n"
   ]
  },
  {
   "cell_type": "code",
   "execution_count": null,
   "metadata": {},
   "outputs": [],
   "source": []
  },
  {
   "cell_type": "markdown",
   "metadata": {},
   "source": [
    "25. Get Unique Elements: Given a tuple, create a new tuple that contains only the unique elements while maintaining the original order.\n"
   ]
  },
  {
   "cell_type": "code",
   "execution_count": null,
   "metadata": {},
   "outputs": [],
   "source": []
  }
 ],
 "metadata": {
  "kernelspec": {
   "display_name": "Python 3",
   "language": "python",
   "name": "python3"
  },
  "language_info": {
   "codemirror_mode": {
    "name": "ipython",
    "version": 3
   },
   "file_extension": ".py",
   "mimetype": "text/x-python",
   "name": "python",
   "nbconvert_exporter": "python",
   "pygments_lexer": "ipython3",
   "version": "3.12.8"
  }
 },
 "nbformat": 4,
 "nbformat_minor": 2
}
