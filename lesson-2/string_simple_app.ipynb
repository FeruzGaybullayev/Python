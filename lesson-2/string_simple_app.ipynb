{
 "cells": [
  {
   "cell_type": "code",
   "execution_count": 1,
   "metadata": {},
   "outputs": [],
   "source": [
    "name = \"John\"  # input(\"What is your name? \")\n",
    "age = 30  # int(input(\"Age: \"))"
   ]
  },
  {
   "cell_type": "code",
   "execution_count": 8,
   "metadata": {},
   "outputs": [
    {
     "name": "stdout",
     "output_type": "stream",
     "text": [
      "Your name is John and you are 30 years old.\n",
      "Your name is John and you are 30 years old.\n"
     ]
    }
   ],
   "source": [
    "print(\"Your name is\", name,\"and you are\",age,\"years old.\")\n",
    "print(f\"Your name is {name} and you are {age} years old.\")"
   ]
  },
  {
   "cell_type": "code",
   "execution_count": 11,
   "metadata": {},
   "outputs": [
    {
     "name": "stdout",
     "output_type": "stream",
     "text": [
      "Your name is John and you are 30 years old.\n",
      "Your name is John and you are 30 years old.\n"
     ]
    }
   ],
   "source": [
    "print(\"Your name is {fname} and you are {age} years old.\".format(fname=name, age=age))\n",
    "print(\"Your name is {} and you are {} years old.\".format(name, age))"
   ]
  },
  {
   "cell_type": "markdown",
   "metadata": {},
   "source": [
    "### + for strings \"concatenation\""
   ]
  },
  {
   "cell_type": "code",
   "execution_count": 12,
   "metadata": {},
   "outputs": [
    {
     "name": "stdout",
     "output_type": "stream",
     "text": [
      "34.8747\n"
     ]
    }
   ],
   "source": [
    "k = 34.874657684312235\n",
    "print(f\"{k:.4f}\")"
   ]
  },
  {
   "cell_type": "code",
   "execution_count": 23,
   "metadata": {},
   "outputs": [],
   "source": [
    "name1= \"Adam\"\n",
    "name2 = \"Johnatan\""
   ]
  },
  {
   "cell_type": "code",
   "execution_count": 33,
   "metadata": {},
   "outputs": [
    {
     "name": "stdout",
     "output_type": "stream",
     "text": [
      "Adam     - firs name\n",
      "Johnatan - second name\n"
     ]
    }
   ],
   "source": [
    "print(f\"{name1:<8} - firs name\")\n",
    "print(f\"{name2:<8} - second name\")"
   ]
  }
 ],
 "metadata": {
  "kernelspec": {
   "display_name": ".venv",
   "language": "python",
   "name": "python3"
  },
  "language_info": {
   "codemirror_mode": {
    "name": "ipython",
    "version": 3
   },
   "file_extension": ".py",
   "mimetype": "text/x-python",
   "name": "python",
   "nbconvert_exporter": "python",
   "pygments_lexer": "ipython3",
   "version": "3.12.8"
  }
 },
 "nbformat": 4,
 "nbformat_minor": 2
}
