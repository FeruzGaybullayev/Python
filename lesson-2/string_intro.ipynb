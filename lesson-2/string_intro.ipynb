{
 "cells": [
  {
   "cell_type": "markdown",
   "metadata": {},
   "source": [
    "*   ' - single quote\n",
    "*   \" - double quote\n",
    "*   \\ - back slash\n",
    "*   / - forward slash\n",
    "\n",
    "*   \\n - new line character\n",
    "*   \\ - single quote\n",
    "*   \\\\\\ - double quote\n",
    "*   \\t - tab\n",
    "*   \\\\\\ - back slash"
   ]
  },
  {
   "cell_type": "code",
   "execution_count": 21,
   "metadata": {},
   "outputs": [
    {
     "data": {
      "text/plain": [
       "'Hello \\nW\\norld'"
      ]
     },
     "execution_count": 21,
     "metadata": {},
     "output_type": "execute_result"
    }
   ],
   "source": [
    "hello = \"Hello \\nW\\norld\"\n",
    "hello"
   ]
  },
  {
   "cell_type": "code",
   "execution_count": 22,
   "metadata": {},
   "outputs": [
    {
     "name": "stdout",
     "output_type": "stream",
     "text": [
      "11\n"
     ]
    }
   ],
   "source": [
    "#         0123456789\n",
    "my_str = \"Hello World\" # Sequence\n",
    "print(len(my_str))"
   ]
  },
  {
   "cell_type": "markdown",
   "metadata": {},
   "source": [
    "*   Slicing \n",
    "*   Indexing"
   ]
  },
  {
   "cell_type": "markdown",
   "metadata": {},
   "source": [
    "##### BEGIN:END:STEP"
   ]
  },
  {
   "cell_type": "code",
   "execution_count": 23,
   "metadata": {},
   "outputs": [
    {
     "name": "stdout",
     "output_type": "stream",
     "text": [
      "Hell World\n",
      "HloWrd\n"
     ]
    }
   ],
   "source": [
    "my_str = \"Hello World\" # Sequence\n",
    "\n",
    "print(my_str[:4] + my_str[5:])\n",
    "print(my_str[::2])"
   ]
  },
  {
   "cell_type": "code",
   "execution_count": 24,
   "metadata": {},
   "outputs": [],
   "source": [
    "my_str = \"Hello World\" # Sequence"
   ]
  },
  {
   "cell_type": "code",
   "execution_count": 25,
   "metadata": {},
   "outputs": [
    {
     "name": "stdout",
     "output_type": "stream",
     "text": [
      "d H\n"
     ]
    }
   ],
   "source": [
    "print(my_str[::-5])"
   ]
  },
  {
   "cell_type": "code",
   "execution_count": 26,
   "metadata": {},
   "outputs": [
    {
     "name": "stdout",
     "output_type": "stream",
     "text": [
      "dlroW olleH\n"
     ]
    }
   ],
   "source": [
    "print(my_str[::-1])"
   ]
  },
  {
   "cell_type": "markdown",
   "metadata": {},
   "source": [
    "*   SyntaxError\n",
    "*   TypeError\n",
    "*   ValueError\n",
    "*   IndexError : string index out"
   ]
  },
  {
   "cell_type": "markdown",
   "metadata": {},
   "source": [
    "* Mutable\n",
    "* Immutable"
   ]
  },
  {
   "cell_type": "code",
   "execution_count": 27,
   "metadata": {},
   "outputs": [
    {
     "name": "stdout",
     "output_type": "stream",
     "text": [
      "Oldin:  1656859324656\n"
     ]
    }
   ],
   "source": [
    "my_str1 = \"Apple\"\n",
    "id1 = print(\"Oldin: \", id(my_str))"
   ]
  },
  {
   "cell_type": "code",
   "execution_count": 48,
   "metadata": {},
   "outputs": [
    {
     "name": "stdout",
     "output_type": "stream",
     "text": [
      "Keyin:  1656859116592\n"
     ]
    }
   ],
   "source": [
    "my_str2 = \"a\" + my_str[1:]\n",
    "id2 = print(\"Keyin: \", id(my_str2))"
   ]
  },
  {
   "cell_type": "code",
   "execution_count": 49,
   "metadata": {},
   "outputs": [
    {
     "name": "stdout",
     "output_type": "stream",
     "text": [
      "Oldin:  1656859324656\n",
      "Keyin:  1656859116592\n"
     ]
    }
   ],
   "source": [
    "id1 = print(\"Oldin: \", id(my_str))\n",
    "id2 = print(\"Keyin: \", id(my_str2))"
   ]
  },
  {
   "cell_type": "code",
   "execution_count": 50,
   "metadata": {},
   "outputs": [],
   "source": [
    "# objact.method()"
   ]
  }
 ],
 "metadata": {
  "kernelspec": {
   "display_name": ".venv",
   "language": "python",
   "name": "python3"
  },
  "language_info": {
   "codemirror_mode": {
    "name": "ipython",
    "version": 3
   },
   "file_extension": ".py",
   "mimetype": "text/x-python",
   "name": "python",
   "nbconvert_exporter": "python",
   "pygments_lexer": "ipython3",
   "version": "3.12.8"
  }
 },
 "nbformat": 4,
 "nbformat_minor": 2
}
